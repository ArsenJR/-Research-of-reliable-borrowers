{
 "cells": [
  {
   "cell_type": "markdown",
   "metadata": {},
   "source": [
    "# Исследование надёжности заёмщиков\n",
    "\n",
    "В ходе исследования необходимо разобраться, влияет ли семейное положение и количество детей клиента на факт погашения кредита в срок."
   ]
  },
  {
   "cell_type": "markdown",
   "metadata": {},
   "source": [
    "## Шаг 1. Откройте файл с данными и изучите общую информацию. "
   ]
  },
  {
   "cell_type": "markdown",
   "metadata": {},
   "source": [
    "Импортируем библиотеку"
   ]
  },
  {
   "cell_type": "code",
   "execution_count": 1,
   "metadata": {},
   "outputs": [],
   "source": [
    "import pandas as pd"
   ]
  },
  {
   "cell_type": "markdown",
   "metadata": {},
   "source": [
    "Прочитаем файл /datasets/data.csv и сохраним его в переменную df\n",
    "Изучим общую информацию"
   ]
  },
  {
   "cell_type": "code",
   "execution_count": 2,
   "metadata": {},
   "outputs": [],
   "source": [
    "df = pd.read_csv('/datasets/data.csv')"
   ]
  },
  {
   "cell_type": "markdown",
   "metadata": {},
   "source": [
    "Выведем первые 10 строк таблицы"
   ]
  },
  {
   "cell_type": "code",
   "execution_count": 3,
   "metadata": {
    "scrolled": true
   },
   "outputs": [
    {
     "data": {
      "text/html": [
       "<div>\n",
       "<style scoped>\n",
       "    .dataframe tbody tr th:only-of-type {\n",
       "        vertical-align: middle;\n",
       "    }\n",
       "\n",
       "    .dataframe tbody tr th {\n",
       "        vertical-align: top;\n",
       "    }\n",
       "\n",
       "    .dataframe thead th {\n",
       "        text-align: right;\n",
       "    }\n",
       "</style>\n",
       "<table border=\"1\" class=\"dataframe\">\n",
       "  <thead>\n",
       "    <tr style=\"text-align: right;\">\n",
       "      <th></th>\n",
       "      <th>children</th>\n",
       "      <th>days_employed</th>\n",
       "      <th>dob_years</th>\n",
       "      <th>education</th>\n",
       "      <th>education_id</th>\n",
       "      <th>family_status</th>\n",
       "      <th>family_status_id</th>\n",
       "      <th>gender</th>\n",
       "      <th>income_type</th>\n",
       "      <th>debt</th>\n",
       "      <th>total_income</th>\n",
       "      <th>purpose</th>\n",
       "    </tr>\n",
       "  </thead>\n",
       "  <tbody>\n",
       "    <tr>\n",
       "      <td>0</td>\n",
       "      <td>1</td>\n",
       "      <td>-8437.673028</td>\n",
       "      <td>42</td>\n",
       "      <td>высшее</td>\n",
       "      <td>0</td>\n",
       "      <td>женат / замужем</td>\n",
       "      <td>0</td>\n",
       "      <td>F</td>\n",
       "      <td>сотрудник</td>\n",
       "      <td>0</td>\n",
       "      <td>253875.639453</td>\n",
       "      <td>покупка жилья</td>\n",
       "    </tr>\n",
       "    <tr>\n",
       "      <td>1</td>\n",
       "      <td>1</td>\n",
       "      <td>-4024.803754</td>\n",
       "      <td>36</td>\n",
       "      <td>среднее</td>\n",
       "      <td>1</td>\n",
       "      <td>женат / замужем</td>\n",
       "      <td>0</td>\n",
       "      <td>F</td>\n",
       "      <td>сотрудник</td>\n",
       "      <td>0</td>\n",
       "      <td>112080.014102</td>\n",
       "      <td>приобретение автомобиля</td>\n",
       "    </tr>\n",
       "    <tr>\n",
       "      <td>2</td>\n",
       "      <td>0</td>\n",
       "      <td>-5623.422610</td>\n",
       "      <td>33</td>\n",
       "      <td>Среднее</td>\n",
       "      <td>1</td>\n",
       "      <td>женат / замужем</td>\n",
       "      <td>0</td>\n",
       "      <td>M</td>\n",
       "      <td>сотрудник</td>\n",
       "      <td>0</td>\n",
       "      <td>145885.952297</td>\n",
       "      <td>покупка жилья</td>\n",
       "    </tr>\n",
       "    <tr>\n",
       "      <td>3</td>\n",
       "      <td>3</td>\n",
       "      <td>-4124.747207</td>\n",
       "      <td>32</td>\n",
       "      <td>среднее</td>\n",
       "      <td>1</td>\n",
       "      <td>женат / замужем</td>\n",
       "      <td>0</td>\n",
       "      <td>M</td>\n",
       "      <td>сотрудник</td>\n",
       "      <td>0</td>\n",
       "      <td>267628.550329</td>\n",
       "      <td>дополнительное образование</td>\n",
       "    </tr>\n",
       "    <tr>\n",
       "      <td>4</td>\n",
       "      <td>0</td>\n",
       "      <td>340266.072047</td>\n",
       "      <td>53</td>\n",
       "      <td>среднее</td>\n",
       "      <td>1</td>\n",
       "      <td>гражданский брак</td>\n",
       "      <td>1</td>\n",
       "      <td>F</td>\n",
       "      <td>пенсионер</td>\n",
       "      <td>0</td>\n",
       "      <td>158616.077870</td>\n",
       "      <td>сыграть свадьбу</td>\n",
       "    </tr>\n",
       "    <tr>\n",
       "      <td>5</td>\n",
       "      <td>0</td>\n",
       "      <td>-926.185831</td>\n",
       "      <td>27</td>\n",
       "      <td>высшее</td>\n",
       "      <td>0</td>\n",
       "      <td>гражданский брак</td>\n",
       "      <td>1</td>\n",
       "      <td>M</td>\n",
       "      <td>компаньон</td>\n",
       "      <td>0</td>\n",
       "      <td>255763.565419</td>\n",
       "      <td>покупка жилья</td>\n",
       "    </tr>\n",
       "    <tr>\n",
       "      <td>6</td>\n",
       "      <td>0</td>\n",
       "      <td>-2879.202052</td>\n",
       "      <td>43</td>\n",
       "      <td>высшее</td>\n",
       "      <td>0</td>\n",
       "      <td>женат / замужем</td>\n",
       "      <td>0</td>\n",
       "      <td>F</td>\n",
       "      <td>компаньон</td>\n",
       "      <td>0</td>\n",
       "      <td>240525.971920</td>\n",
       "      <td>операции с жильем</td>\n",
       "    </tr>\n",
       "    <tr>\n",
       "      <td>7</td>\n",
       "      <td>0</td>\n",
       "      <td>-152.779569</td>\n",
       "      <td>50</td>\n",
       "      <td>СРЕДНЕЕ</td>\n",
       "      <td>1</td>\n",
       "      <td>женат / замужем</td>\n",
       "      <td>0</td>\n",
       "      <td>M</td>\n",
       "      <td>сотрудник</td>\n",
       "      <td>0</td>\n",
       "      <td>135823.934197</td>\n",
       "      <td>образование</td>\n",
       "    </tr>\n",
       "    <tr>\n",
       "      <td>8</td>\n",
       "      <td>2</td>\n",
       "      <td>-6929.865299</td>\n",
       "      <td>35</td>\n",
       "      <td>ВЫСШЕЕ</td>\n",
       "      <td>0</td>\n",
       "      <td>гражданский брак</td>\n",
       "      <td>1</td>\n",
       "      <td>F</td>\n",
       "      <td>сотрудник</td>\n",
       "      <td>0</td>\n",
       "      <td>95856.832424</td>\n",
       "      <td>на проведение свадьбы</td>\n",
       "    </tr>\n",
       "    <tr>\n",
       "      <td>9</td>\n",
       "      <td>0</td>\n",
       "      <td>-2188.756445</td>\n",
       "      <td>41</td>\n",
       "      <td>среднее</td>\n",
       "      <td>1</td>\n",
       "      <td>женат / замужем</td>\n",
       "      <td>0</td>\n",
       "      <td>M</td>\n",
       "      <td>сотрудник</td>\n",
       "      <td>0</td>\n",
       "      <td>144425.938277</td>\n",
       "      <td>покупка жилья для семьи</td>\n",
       "    </tr>\n",
       "  </tbody>\n",
       "</table>\n",
       "</div>"
      ],
      "text/plain": [
       "   children  days_employed  dob_years education  education_id  \\\n",
       "0         1   -8437.673028         42    высшее             0   \n",
       "1         1   -4024.803754         36   среднее             1   \n",
       "2         0   -5623.422610         33   Среднее             1   \n",
       "3         3   -4124.747207         32   среднее             1   \n",
       "4         0  340266.072047         53   среднее             1   \n",
       "5         0    -926.185831         27    высшее             0   \n",
       "6         0   -2879.202052         43    высшее             0   \n",
       "7         0    -152.779569         50   СРЕДНЕЕ             1   \n",
       "8         2   -6929.865299         35    ВЫСШЕЕ             0   \n",
       "9         0   -2188.756445         41   среднее             1   \n",
       "\n",
       "      family_status  family_status_id gender income_type  debt   total_income  \\\n",
       "0   женат / замужем                 0      F   сотрудник     0  253875.639453   \n",
       "1   женат / замужем                 0      F   сотрудник     0  112080.014102   \n",
       "2   женат / замужем                 0      M   сотрудник     0  145885.952297   \n",
       "3   женат / замужем                 0      M   сотрудник     0  267628.550329   \n",
       "4  гражданский брак                 1      F   пенсионер     0  158616.077870   \n",
       "5  гражданский брак                 1      M   компаньон     0  255763.565419   \n",
       "6   женат / замужем                 0      F   компаньон     0  240525.971920   \n",
       "7   женат / замужем                 0      M   сотрудник     0  135823.934197   \n",
       "8  гражданский брак                 1      F   сотрудник     0   95856.832424   \n",
       "9   женат / замужем                 0      M   сотрудник     0  144425.938277   \n",
       "\n",
       "                      purpose  \n",
       "0               покупка жилья  \n",
       "1     приобретение автомобиля  \n",
       "2               покупка жилья  \n",
       "3  дополнительное образование  \n",
       "4             сыграть свадьбу  \n",
       "5               покупка жилья  \n",
       "6           операции с жильем  \n",
       "7                 образование  \n",
       "8       на проведение свадьбы  \n",
       "9     покупка жилья для семьи  "
      ]
     },
     "execution_count": 3,
     "metadata": {},
     "output_type": "execute_result"
    }
   ],
   "source": [
    "df.head(10)"
   ]
  },
  {
   "cell_type": "markdown",
   "metadata": {},
   "source": [
    "Получим общую информацию о данных в таблице"
   ]
  },
  {
   "cell_type": "code",
   "execution_count": 4,
   "metadata": {
    "scrolled": true
   },
   "outputs": [
    {
     "name": "stdout",
     "output_type": "stream",
     "text": [
      "<class 'pandas.core.frame.DataFrame'>\n",
      "RangeIndex: 21525 entries, 0 to 21524\n",
      "Data columns (total 12 columns):\n",
      "children            21525 non-null int64\n",
      "days_employed       19351 non-null float64\n",
      "dob_years           21525 non-null int64\n",
      "education           21525 non-null object\n",
      "education_id        21525 non-null int64\n",
      "family_status       21525 non-null object\n",
      "family_status_id    21525 non-null int64\n",
      "gender              21525 non-null object\n",
      "income_type         21525 non-null object\n",
      "debt                21525 non-null int64\n",
      "total_income        19351 non-null float64\n",
      "purpose             21525 non-null object\n",
      "dtypes: float64(2), int64(5), object(5)\n",
      "memory usage: 2.0+ MB\n"
     ]
    }
   ],
   "source": [
    "df.info()"
   ]
  },
  {
   "cell_type": "markdown",
   "metadata": {},
   "source": [
    "Рассмотрим полученную информацию\n",
    "\n",
    "Всего в таблице 12 столбцов:\n",
    "\n",
    "* children  — количество детей в семье \n",
    "* days_employed — общий трудовой стаж в днях\n",
    "* dob_years — возраст клиента в годах\n",
    "* education — уровень образования клиента\n",
    "* education_id — идентификатор уровня образования\n",
    "* family_status — семейное положение\n",
    "* family_status_id — идентификатор семейного положения\n",
    "* gender — пол клиента\n",
    "* income_type — тип занятости\n",
    "* debt — имел ли задолженность по возврату кредитов\n",
    "* total_income — ежемесячный доход\n",
    "* purpose — цель получения кредита"
   ]
  },
  {
   "cell_type": "markdown",
   "metadata": {},
   "source": [
    "**Вывод**\n",
    "\n",
    "Изучили таблицу со статисткой о платежеспособности заёмщиков, определили значения столбцов и нашли факторы, которые будут мешать анализу (нулевые строки, неверные типы данных столбцов). За счет чего, определили дальнейший план по работе с данными."
   ]
  },
  {
   "cell_type": "markdown",
   "metadata": {},
   "source": [
    "## Шаг 2. Предобработка данных"
   ]
  },
  {
   "cell_type": "markdown",
   "metadata": {},
   "source": [
    "### Обработка пропусков"
   ]
  },
  {
   "cell_type": "markdown",
   "metadata": {},
   "source": [
    "Проверим данные на наличие пропусков"
   ]
  },
  {
   "cell_type": "code",
   "execution_count": 5,
   "metadata": {},
   "outputs": [
    {
     "data": {
      "text/plain": [
       "children               0\n",
       "days_employed       2174\n",
       "dob_years              0\n",
       "education              0\n",
       "education_id           0\n",
       "family_status          0\n",
       "family_status_id       0\n",
       "gender                 0\n",
       "income_type            0\n",
       "debt                   0\n",
       "total_income        2174\n",
       "purpose                0\n",
       "dtype: int64"
      ]
     },
     "execution_count": 5,
     "metadata": {},
     "output_type": "execute_result"
    }
   ],
   "source": [
    "df.isna().sum()"
   ]
  },
  {
   "cell_type": "markdown",
   "metadata": {},
   "source": [
    "В таблице присутствуют пропуски в столбцах с общим трудовым стажем (в днях) и с ежемесячным доходом. Прежде чем выбрать способ их устранения, решил проверить: зависят ли эти пропуски между собой?"
   ]
  },
  {
   "cell_type": "code",
   "execution_count": 6,
   "metadata": {},
   "outputs": [
    {
     "data": {
      "text/plain": [
       "children               0\n",
       "days_employed       2174\n",
       "dob_years              0\n",
       "education              0\n",
       "education_id           0\n",
       "family_status          0\n",
       "family_status_id       0\n",
       "gender                 0\n",
       "income_type            0\n",
       "debt                   0\n",
       "total_income        2174\n",
       "purpose                0\n",
       "dtype: int64"
      ]
     },
     "execution_count": 6,
     "metadata": {},
     "output_type": "execute_result"
    }
   ],
   "source": [
    " #делаем выборку по всем строкам, где значение стобца 'days_employed' пустое и считаем количество пустых значений в каждом слобце\n",
    "df[df['days_employed'].isna()].isna().sum()"
   ]
  },
  {
   "cell_type": "markdown",
   "metadata": {},
   "source": [
    "Что мы получаем: Пропуски в столбцах взаимосвязаны, в каждой строке, где не заполнено значение одного из критерия не заполнено и второе. Осталось решить, как мы их будем заполнять.\n",
    "\n",
    "Со значением ежемесячного дохода я буду поступать следующим образам: т.к. это один из ключевых факторов в принятии решения банка одобрять кредит или нет (чем выше з/п, тем более интересен банку человек, как заёмщик), будем ставить вместо пропусков отсутствие ежемесячного дохода, то есть 0 руб.\n",
    "\n",
    "Со значением стажа немного другая история. Стаж можно спрогнозировать, хоть и не всегда правильно, т.к. нет определенного возраста, с которого человек начинает работать. Но это не единственный фактор, так как только это не могло бы нас оттолкнуть от \"прогноза\", ведь отклонение в 2-3 года при стаже в 15-30 лет можно считать не существенным. А вот фактор, который меня переубедил это делать, это тот факт, что человек, в 40 лет может уйти совершенно в другую область работы, и из-за этого стаж в этой отрасли у него будет накапливаться заново. Возможно, вы скажите, что это тоже не такой уж и большой процент. И, возможно, я с вами соглашусь. Но, взяв все во внимание, что пропуски в наших двух столбцах коррелирует, а в одоном столбце мы уже решили заменить пропуски з/п на её отсутствие, и, что задача у нас стоит: \" разобраться, влияет ли семейное положение и количество детей клиента на факт погашения кредита в срок\", а значит задачи искать связь между рабочим стажем и погашением кредита в срок у нас не стоит. Я считаю, что выбрал самое разумное решение.\n",
    "\n",
    "В конце хочу подкрепить уверенностью моего решения, что, возможно, люди, которые не заполнили данных два столбца, не работали никогда и поэтому у них нет ни стажа, ни ежемесячного дохода"
   ]
  },
  {
   "cell_type": "markdown",
   "metadata": {},
   "source": [
    "Заполняем пропуски в данных и смотрим на результат"
   ]
  },
  {
   "cell_type": "code",
   "execution_count": 7,
   "metadata": {},
   "outputs": [
    {
     "data": {
      "text/plain": [
       "children            0\n",
       "days_employed       0\n",
       "dob_years           0\n",
       "education           0\n",
       "education_id        0\n",
       "family_status       0\n",
       "family_status_id    0\n",
       "gender              0\n",
       "income_type         0\n",
       "debt                0\n",
       "total_income        0\n",
       "purpose             0\n",
       "dtype: int64"
      ]
     },
     "execution_count": 7,
     "metadata": {},
     "output_type": "execute_result"
    }
   ],
   "source": [
    "df['days_employed'] = df['days_employed'].fillna(0)\n",
    "df['total_income'] = df['total_income'].fillna(0)\n",
    "df.isna().sum()"
   ]
  },
  {
   "cell_type": "markdown",
   "metadata": {},
   "source": [
    "**Вывод**\n",
    "\n",
    "Выбрали способ заполнения пустых значений и использовали его. Теперь все ячейки в нашей таблицы заполнены, но это ещё не все...\n",
    "Мы провели лишь первый шаг в предобработке данных"
   ]
  },
  {
   "cell_type": "markdown",
   "metadata": {},
   "source": [
    "### Работа с аномалиями"
   ]
  },
  {
   "cell_type": "markdown",
   "metadata": {},
   "source": [
    "Выведем общую информацию о наших значениях"
   ]
  },
  {
   "cell_type": "code",
   "execution_count": 8,
   "metadata": {
    "scrolled": true
   },
   "outputs": [
    {
     "data": {
      "text/html": [
       "<div>\n",
       "<style scoped>\n",
       "    .dataframe tbody tr th:only-of-type {\n",
       "        vertical-align: middle;\n",
       "    }\n",
       "\n",
       "    .dataframe tbody tr th {\n",
       "        vertical-align: top;\n",
       "    }\n",
       "\n",
       "    .dataframe thead th {\n",
       "        text-align: right;\n",
       "    }\n",
       "</style>\n",
       "<table border=\"1\" class=\"dataframe\">\n",
       "  <thead>\n",
       "    <tr style=\"text-align: right;\">\n",
       "      <th></th>\n",
       "      <th>children</th>\n",
       "      <th>days_employed</th>\n",
       "      <th>dob_years</th>\n",
       "      <th>education_id</th>\n",
       "      <th>family_status_id</th>\n",
       "      <th>debt</th>\n",
       "      <th>total_income</th>\n",
       "    </tr>\n",
       "  </thead>\n",
       "  <tbody>\n",
       "    <tr>\n",
       "      <td>count</td>\n",
       "      <td>21525.000000</td>\n",
       "      <td>21525.000000</td>\n",
       "      <td>21525.000000</td>\n",
       "      <td>21525.000000</td>\n",
       "      <td>21525.000000</td>\n",
       "      <td>21525.000000</td>\n",
       "      <td>2.152500e+04</td>\n",
       "    </tr>\n",
       "    <tr>\n",
       "      <td>mean</td>\n",
       "      <td>0.538908</td>\n",
       "      <td>56678.874622</td>\n",
       "      <td>43.293380</td>\n",
       "      <td>0.817236</td>\n",
       "      <td>0.972544</td>\n",
       "      <td>0.080883</td>\n",
       "      <td>1.505128e+05</td>\n",
       "    </tr>\n",
       "    <tr>\n",
       "      <td>std</td>\n",
       "      <td>1.381587</td>\n",
       "      <td>134870.763085</td>\n",
       "      <td>12.574584</td>\n",
       "      <td>0.548138</td>\n",
       "      <td>1.420324</td>\n",
       "      <td>0.272661</td>\n",
       "      <td>1.098972e+05</td>\n",
       "    </tr>\n",
       "    <tr>\n",
       "      <td>min</td>\n",
       "      <td>-1.000000</td>\n",
       "      <td>-18388.949901</td>\n",
       "      <td>0.000000</td>\n",
       "      <td>0.000000</td>\n",
       "      <td>0.000000</td>\n",
       "      <td>0.000000</td>\n",
       "      <td>0.000000e+00</td>\n",
       "    </tr>\n",
       "    <tr>\n",
       "      <td>25%</td>\n",
       "      <td>0.000000</td>\n",
       "      <td>-2518.168900</td>\n",
       "      <td>33.000000</td>\n",
       "      <td>1.000000</td>\n",
       "      <td>0.000000</td>\n",
       "      <td>0.000000</td>\n",
       "      <td>8.861283e+04</td>\n",
       "    </tr>\n",
       "    <tr>\n",
       "      <td>50%</td>\n",
       "      <td>0.000000</td>\n",
       "      <td>-982.531720</td>\n",
       "      <td>42.000000</td>\n",
       "      <td>1.000000</td>\n",
       "      <td>0.000000</td>\n",
       "      <td>0.000000</td>\n",
       "      <td>1.355147e+05</td>\n",
       "    </tr>\n",
       "    <tr>\n",
       "      <td>75%</td>\n",
       "      <td>1.000000</td>\n",
       "      <td>0.000000</td>\n",
       "      <td>53.000000</td>\n",
       "      <td>1.000000</td>\n",
       "      <td>1.000000</td>\n",
       "      <td>0.000000</td>\n",
       "      <td>1.955436e+05</td>\n",
       "    </tr>\n",
       "    <tr>\n",
       "      <td>max</td>\n",
       "      <td>20.000000</td>\n",
       "      <td>401755.400475</td>\n",
       "      <td>75.000000</td>\n",
       "      <td>4.000000</td>\n",
       "      <td>4.000000</td>\n",
       "      <td>1.000000</td>\n",
       "      <td>2.265604e+06</td>\n",
       "    </tr>\n",
       "  </tbody>\n",
       "</table>\n",
       "</div>"
      ],
      "text/plain": [
       "           children  days_employed     dob_years  education_id  \\\n",
       "count  21525.000000   21525.000000  21525.000000  21525.000000   \n",
       "mean       0.538908   56678.874622     43.293380      0.817236   \n",
       "std        1.381587  134870.763085     12.574584      0.548138   \n",
       "min       -1.000000  -18388.949901      0.000000      0.000000   \n",
       "25%        0.000000   -2518.168900     33.000000      1.000000   \n",
       "50%        0.000000    -982.531720     42.000000      1.000000   \n",
       "75%        1.000000       0.000000     53.000000      1.000000   \n",
       "max       20.000000  401755.400475     75.000000      4.000000   \n",
       "\n",
       "       family_status_id          debt  total_income  \n",
       "count      21525.000000  21525.000000  2.152500e+04  \n",
       "mean           0.972544      0.080883  1.505128e+05  \n",
       "std            1.420324      0.272661  1.098972e+05  \n",
       "min            0.000000      0.000000  0.000000e+00  \n",
       "25%            0.000000      0.000000  8.861283e+04  \n",
       "50%            0.000000      0.000000  1.355147e+05  \n",
       "75%            1.000000      0.000000  1.955436e+05  \n",
       "max            4.000000      1.000000  2.265604e+06  "
      ]
     },
     "execution_count": 8,
     "metadata": {},
     "output_type": "execute_result"
    }
   ],
   "source": [
    "df.describe()"
   ]
  },
  {
   "cell_type": "markdown",
   "metadata": {},
   "source": [
    "В глаза сразу бросаются отрицательные числа. В обоих колонках ('children', 'days_employed') отрицательные числа - не допустимы. Делаю предположение, что это частая ошибка в заполнения форм подобного рода, а заемщики просто хотели поставить знак 'тире' между вопросом и ответом. Так что предлагаю просто взять модуль от этих чисел."
   ]
  },
  {
   "cell_type": "code",
   "execution_count": 9,
   "metadata": {},
   "outputs": [],
   "source": [
    "df['children'] = abs(df['children'])\n",
    "df['days_employed'] = abs(df['days_employed'])"
   ]
  },
  {
   "cell_type": "code",
   "execution_count": 39,
   "metadata": {
    "scrolled": true
   },
   "outputs": [
    {
     "data": {
      "text/plain": [
       "0        1\n",
       "1        1\n",
       "2        0\n",
       "3        3\n",
       "4        0\n",
       "        ..\n",
       "21449    1\n",
       "21450    0\n",
       "21451    1\n",
       "21452    3\n",
       "21453    2\n",
       "Name: children, Length: 21454, dtype: int64"
      ]
     },
     "execution_count": 39,
     "metadata": {},
     "output_type": "execute_result"
    }
   ],
   "source": [
    "df['children'].abs()"
   ]
  },
  {
   "cell_type": "markdown",
   "metadata": {},
   "source": [
    "Посмотрим, как изменились наши данные"
   ]
  },
  {
   "cell_type": "code",
   "execution_count": 10,
   "metadata": {},
   "outputs": [
    {
     "data": {
      "text/html": [
       "<div>\n",
       "<style scoped>\n",
       "    .dataframe tbody tr th:only-of-type {\n",
       "        vertical-align: middle;\n",
       "    }\n",
       "\n",
       "    .dataframe tbody tr th {\n",
       "        vertical-align: top;\n",
       "    }\n",
       "\n",
       "    .dataframe thead th {\n",
       "        text-align: right;\n",
       "    }\n",
       "</style>\n",
       "<table border=\"1\" class=\"dataframe\">\n",
       "  <thead>\n",
       "    <tr style=\"text-align: right;\">\n",
       "      <th></th>\n",
       "      <th>children</th>\n",
       "      <th>days_employed</th>\n",
       "      <th>dob_years</th>\n",
       "      <th>education_id</th>\n",
       "      <th>family_status_id</th>\n",
       "      <th>debt</th>\n",
       "      <th>total_income</th>\n",
       "    </tr>\n",
       "  </thead>\n",
       "  <tbody>\n",
       "    <tr>\n",
       "      <td>count</td>\n",
       "      <td>21525.000000</td>\n",
       "      <td>21525.000000</td>\n",
       "      <td>21525.000000</td>\n",
       "      <td>21525.000000</td>\n",
       "      <td>21525.000000</td>\n",
       "      <td>21525.000000</td>\n",
       "      <td>2.152500e+04</td>\n",
       "    </tr>\n",
       "    <tr>\n",
       "      <td>mean</td>\n",
       "      <td>0.543275</td>\n",
       "      <td>60156.419005</td>\n",
       "      <td>43.293380</td>\n",
       "      <td>0.817236</td>\n",
       "      <td>0.972544</td>\n",
       "      <td>0.080883</td>\n",
       "      <td>1.505128e+05</td>\n",
       "    </tr>\n",
       "    <tr>\n",
       "      <td>std</td>\n",
       "      <td>1.379876</td>\n",
       "      <td>133355.929525</td>\n",
       "      <td>12.574584</td>\n",
       "      <td>0.548138</td>\n",
       "      <td>1.420324</td>\n",
       "      <td>0.272661</td>\n",
       "      <td>1.098972e+05</td>\n",
       "    </tr>\n",
       "    <tr>\n",
       "      <td>min</td>\n",
       "      <td>0.000000</td>\n",
       "      <td>0.000000</td>\n",
       "      <td>0.000000</td>\n",
       "      <td>0.000000</td>\n",
       "      <td>0.000000</td>\n",
       "      <td>0.000000</td>\n",
       "      <td>0.000000e+00</td>\n",
       "    </tr>\n",
       "    <tr>\n",
       "      <td>25%</td>\n",
       "      <td>0.000000</td>\n",
       "      <td>610.652074</td>\n",
       "      <td>33.000000</td>\n",
       "      <td>1.000000</td>\n",
       "      <td>0.000000</td>\n",
       "      <td>0.000000</td>\n",
       "      <td>8.861283e+04</td>\n",
       "    </tr>\n",
       "    <tr>\n",
       "      <td>50%</td>\n",
       "      <td>0.000000</td>\n",
       "      <td>1808.053434</td>\n",
       "      <td>42.000000</td>\n",
       "      <td>1.000000</td>\n",
       "      <td>0.000000</td>\n",
       "      <td>0.000000</td>\n",
       "      <td>1.355147e+05</td>\n",
       "    </tr>\n",
       "    <tr>\n",
       "      <td>75%</td>\n",
       "      <td>1.000000</td>\n",
       "      <td>4779.587738</td>\n",
       "      <td>53.000000</td>\n",
       "      <td>1.000000</td>\n",
       "      <td>1.000000</td>\n",
       "      <td>0.000000</td>\n",
       "      <td>1.955436e+05</td>\n",
       "    </tr>\n",
       "    <tr>\n",
       "      <td>max</td>\n",
       "      <td>20.000000</td>\n",
       "      <td>401755.400475</td>\n",
       "      <td>75.000000</td>\n",
       "      <td>4.000000</td>\n",
       "      <td>4.000000</td>\n",
       "      <td>1.000000</td>\n",
       "      <td>2.265604e+06</td>\n",
       "    </tr>\n",
       "  </tbody>\n",
       "</table>\n",
       "</div>"
      ],
      "text/plain": [
       "           children  days_employed     dob_years  education_id  \\\n",
       "count  21525.000000   21525.000000  21525.000000  21525.000000   \n",
       "mean       0.543275   60156.419005     43.293380      0.817236   \n",
       "std        1.379876  133355.929525     12.574584      0.548138   \n",
       "min        0.000000       0.000000      0.000000      0.000000   \n",
       "25%        0.000000     610.652074     33.000000      1.000000   \n",
       "50%        0.000000    1808.053434     42.000000      1.000000   \n",
       "75%        1.000000    4779.587738     53.000000      1.000000   \n",
       "max       20.000000  401755.400475     75.000000      4.000000   \n",
       "\n",
       "       family_status_id          debt  total_income  \n",
       "count      21525.000000  21525.000000  2.152500e+04  \n",
       "mean           0.972544      0.080883  1.505128e+05  \n",
       "std            1.420324      0.272661  1.098972e+05  \n",
       "min            0.000000      0.000000  0.000000e+00  \n",
       "25%            0.000000      0.000000  8.861283e+04  \n",
       "50%            0.000000      0.000000  1.355147e+05  \n",
       "75%            1.000000      0.000000  1.955436e+05  \n",
       "max            4.000000      1.000000  2.265604e+06  "
      ]
     },
     "execution_count": 10,
     "metadata": {},
     "output_type": "execute_result"
    }
   ],
   "source": [
    "df.describe()"
   ]
  },
  {
   "cell_type": "markdown",
   "metadata": {},
   "source": [
    "Вот и избавились мы от всех отрицательных чисел в наших данных. Но это была не единственная проблема. Конечно, огромные числа в столбце с ежемесячным доходом нас не удивляют, хоть и вызывают некоторые вопросы, но на столько большое количество дней трудового стажа явно говорят о не подлинности данных. Осталось лишь определить, что мы будим делать, с этими ошибками.\n",
    "\n",
    "На сайте \"РИА Новости\" опубликована интересная статься, где говориться, что средний стаж выхода на пенсию составляет 34,5 лет (мы возьмем 35 лет). Так что предлагаю считать значения больше этого, как аномальные значения. А вот заменять мы их будем на среднее зачтение стажа в нашей таблице."
   ]
  },
  {
   "cell_type": "markdown",
   "metadata": {},
   "source": [
    "Использую метод apply(), чтобы заменить аномальный значения. "
   ]
  },
  {
   "cell_type": "code",
   "execution_count": 11,
   "metadata": {},
   "outputs": [],
   "source": [
    "days_employed_max = 35 * 365\n",
    "days_employed_mean = (df[df['days_employed'] < days_employed_max])['days_employed'].mean()\n",
    "df['days_employed'] = df['days_employed'].apply(lambda days_employed: days_employed_mean if days_employed > days_employed_max else days_employed)"
   ]
  },
  {
   "cell_type": "code",
   "execution_count": 12,
   "metadata": {},
   "outputs": [
    {
     "data": {
      "text/html": [
       "<div>\n",
       "<style scoped>\n",
       "    .dataframe tbody tr th:only-of-type {\n",
       "        vertical-align: middle;\n",
       "    }\n",
       "\n",
       "    .dataframe tbody tr th {\n",
       "        vertical-align: top;\n",
       "    }\n",
       "\n",
       "    .dataframe thead th {\n",
       "        text-align: right;\n",
       "    }\n",
       "</style>\n",
       "<table border=\"1\" class=\"dataframe\">\n",
       "  <thead>\n",
       "    <tr style=\"text-align: right;\">\n",
       "      <th></th>\n",
       "      <th>children</th>\n",
       "      <th>days_employed</th>\n",
       "      <th>dob_years</th>\n",
       "      <th>education_id</th>\n",
       "      <th>family_status_id</th>\n",
       "      <th>debt</th>\n",
       "      <th>total_income</th>\n",
       "    </tr>\n",
       "  </thead>\n",
       "  <tbody>\n",
       "    <tr>\n",
       "      <td>count</td>\n",
       "      <td>21525.000000</td>\n",
       "      <td>21525.000000</td>\n",
       "      <td>21525.000000</td>\n",
       "      <td>21525.000000</td>\n",
       "      <td>21525.000000</td>\n",
       "      <td>21525.000000</td>\n",
       "      <td>2.152500e+04</td>\n",
       "    </tr>\n",
       "    <tr>\n",
       "      <td>mean</td>\n",
       "      <td>0.543275</td>\n",
       "      <td>2029.731359</td>\n",
       "      <td>43.293380</td>\n",
       "      <td>0.817236</td>\n",
       "      <td>0.972544</td>\n",
       "      <td>0.080883</td>\n",
       "      <td>1.505128e+05</td>\n",
       "    </tr>\n",
       "    <tr>\n",
       "      <td>std</td>\n",
       "      <td>1.379876</td>\n",
       "      <td>2000.171731</td>\n",
       "      <td>12.574584</td>\n",
       "      <td>0.548138</td>\n",
       "      <td>1.420324</td>\n",
       "      <td>0.272661</td>\n",
       "      <td>1.098972e+05</td>\n",
       "    </tr>\n",
       "    <tr>\n",
       "      <td>min</td>\n",
       "      <td>0.000000</td>\n",
       "      <td>0.000000</td>\n",
       "      <td>0.000000</td>\n",
       "      <td>0.000000</td>\n",
       "      <td>0.000000</td>\n",
       "      <td>0.000000</td>\n",
       "      <td>0.000000e+00</td>\n",
       "    </tr>\n",
       "    <tr>\n",
       "      <td>25%</td>\n",
       "      <td>0.000000</td>\n",
       "      <td>610.652074</td>\n",
       "      <td>33.000000</td>\n",
       "      <td>1.000000</td>\n",
       "      <td>0.000000</td>\n",
       "      <td>0.000000</td>\n",
       "      <td>8.861283e+04</td>\n",
       "    </tr>\n",
       "    <tr>\n",
       "      <td>50%</td>\n",
       "      <td>0.000000</td>\n",
       "      <td>1808.053434</td>\n",
       "      <td>42.000000</td>\n",
       "      <td>1.000000</td>\n",
       "      <td>0.000000</td>\n",
       "      <td>0.000000</td>\n",
       "      <td>1.355147e+05</td>\n",
       "    </tr>\n",
       "    <tr>\n",
       "      <td>75%</td>\n",
       "      <td>1.000000</td>\n",
       "      <td>2491.158982</td>\n",
       "      <td>53.000000</td>\n",
       "      <td>1.000000</td>\n",
       "      <td>1.000000</td>\n",
       "      <td>0.000000</td>\n",
       "      <td>1.955436e+05</td>\n",
       "    </tr>\n",
       "    <tr>\n",
       "      <td>max</td>\n",
       "      <td>20.000000</td>\n",
       "      <td>12761.820562</td>\n",
       "      <td>75.000000</td>\n",
       "      <td>4.000000</td>\n",
       "      <td>4.000000</td>\n",
       "      <td>1.000000</td>\n",
       "      <td>2.265604e+06</td>\n",
       "    </tr>\n",
       "  </tbody>\n",
       "</table>\n",
       "</div>"
      ],
      "text/plain": [
       "           children  days_employed     dob_years  education_id  \\\n",
       "count  21525.000000   21525.000000  21525.000000  21525.000000   \n",
       "mean       0.543275    2029.731359     43.293380      0.817236   \n",
       "std        1.379876    2000.171731     12.574584      0.548138   \n",
       "min        0.000000       0.000000      0.000000      0.000000   \n",
       "25%        0.000000     610.652074     33.000000      1.000000   \n",
       "50%        0.000000    1808.053434     42.000000      1.000000   \n",
       "75%        1.000000    2491.158982     53.000000      1.000000   \n",
       "max       20.000000   12761.820562     75.000000      4.000000   \n",
       "\n",
       "       family_status_id          debt  total_income  \n",
       "count      21525.000000  21525.000000  2.152500e+04  \n",
       "mean           0.972544      0.080883  1.505128e+05  \n",
       "std            1.420324      0.272661  1.098972e+05  \n",
       "min            0.000000      0.000000  0.000000e+00  \n",
       "25%            0.000000      0.000000  8.861283e+04  \n",
       "50%            0.000000      0.000000  1.355147e+05  \n",
       "75%            1.000000      0.000000  1.955436e+05  \n",
       "max            4.000000      1.000000  2.265604e+06  "
      ]
     },
     "execution_count": 12,
     "metadata": {},
     "output_type": "execute_result"
    }
   ],
   "source": [
    "df.describe()"
   ]
  },
  {
   "cell_type": "markdown",
   "metadata": {},
   "source": [
    "**Вывод** \n",
    "\n",
    "Мы избавились от аномальных данных, теперь наша статистика будет точнее отражать результат."
   ]
  },
  {
   "cell_type": "markdown",
   "metadata": {},
   "source": [
    "### Замена типа данных"
   ]
  },
  {
   "cell_type": "markdown",
   "metadata": {},
   "source": [
    "Посмотрим еще раз на тип данных каждого столбца"
   ]
  },
  {
   "cell_type": "code",
   "execution_count": 13,
   "metadata": {},
   "outputs": [
    {
     "name": "stdout",
     "output_type": "stream",
     "text": [
      "<class 'pandas.core.frame.DataFrame'>\n",
      "RangeIndex: 21525 entries, 0 to 21524\n",
      "Data columns (total 12 columns):\n",
      "children            21525 non-null int64\n",
      "days_employed       21525 non-null float64\n",
      "dob_years           21525 non-null int64\n",
      "education           21525 non-null object\n",
      "education_id        21525 non-null int64\n",
      "family_status       21525 non-null object\n",
      "family_status_id    21525 non-null int64\n",
      "gender              21525 non-null object\n",
      "income_type         21525 non-null object\n",
      "debt                21525 non-null int64\n",
      "total_income        21525 non-null float64\n",
      "purpose             21525 non-null object\n",
      "dtypes: float64(2), int64(5), object(5)\n",
      "memory usage: 2.0+ MB\n"
     ]
    }
   ],
   "source": [
    "df.info()"
   ]
  },
  {
   "cell_type": "markdown",
   "metadata": {},
   "source": [
    "Обратим внимание на тип данных столбцов 'days_employed' и 'total_income'. Они вещественного типа. Но значения дней и зарплаты удобнее хранить в целочисленных значениях.\n",
    "\n",
    "\n",
    "Переопределим столбцы 'days_employed' и 'total_income' как целочисленные значения."
   ]
  },
  {
   "cell_type": "code",
   "execution_count": 14,
   "metadata": {},
   "outputs": [],
   "source": [
    "df['days_employed'] = df['days_employed'].astype('int')\n",
    "df['total_income'] = df['total_income'].astype('int')"
   ]
  },
  {
   "cell_type": "code",
   "execution_count": 15,
   "metadata": {},
   "outputs": [
    {
     "name": "stdout",
     "output_type": "stream",
     "text": [
      "<class 'pandas.core.frame.DataFrame'>\n",
      "RangeIndex: 21525 entries, 0 to 21524\n",
      "Data columns (total 12 columns):\n",
      "children            21525 non-null int64\n",
      "days_employed       21525 non-null int64\n",
      "dob_years           21525 non-null int64\n",
      "education           21525 non-null object\n",
      "education_id        21525 non-null int64\n",
      "family_status       21525 non-null object\n",
      "family_status_id    21525 non-null int64\n",
      "gender              21525 non-null object\n",
      "income_type         21525 non-null object\n",
      "debt                21525 non-null int64\n",
      "total_income        21525 non-null int64\n",
      "purpose             21525 non-null object\n",
      "dtypes: int64(7), object(5)\n",
      "memory usage: 2.0+ MB\n"
     ]
    }
   ],
   "source": [
    "df.info()"
   ]
  },
  {
   "cell_type": "markdown",
   "metadata": {},
   "source": [
    "**Вывод**\n",
    "\n",
    "Перевели значение столбцов 'days_employed' и 'total_income' из вещественного типа данных в целочисленный. Теперь наша талица намного красивее."
   ]
  },
  {
   "cell_type": "markdown",
   "metadata": {},
   "source": [
    "### Обработка дубликатов"
   ]
  },
  {
   "cell_type": "markdown",
   "metadata": {},
   "source": [
    "Возможно, некоторые заявки у нас продублированы. Это может быть связано с многими факторами: сбой в системе; человек повторно подал заявку. Причина нам не интересно, ведь наша задача избавиться от них.\n",
    "\n",
    "Сначала проверим, есть ли в нашей таблице эти дубликаты."
   ]
  },
  {
   "cell_type": "code",
   "execution_count": 16,
   "metadata": {},
   "outputs": [
    {
     "data": {
      "text/plain": [
       "54"
      ]
     },
     "execution_count": 16,
     "metadata": {},
     "output_type": "execute_result"
    }
   ],
   "source": [
    "df.duplicated().sum()"
   ]
  },
  {
   "cell_type": "markdown",
   "metadata": {},
   "source": [
    "Есть. Целых 54 шт. Возможно это и не сильно повлияет на нашу статистику, но в любом случае, мы не можем просто закрыть на это глаза. Так что уберем их. и Проверим количесетво повторяющихся строк.\n",
    "\n",
    "Конечно, есть шанс, что это совершенно разные заявки, что два разных человека с одинаковыми характеристиками берут кредит, но я считаю, что это что-то из разряда фантастики. Так что считаю эти строки за дубликаты."
   ]
  },
  {
   "cell_type": "code",
   "execution_count": 17,
   "metadata": {},
   "outputs": [],
   "source": [
    "df = df.drop_duplicates().reset_index(drop = True)"
   ]
  },
  {
   "cell_type": "code",
   "execution_count": 18,
   "metadata": {
    "scrolled": true
   },
   "outputs": [
    {
     "data": {
      "text/plain": [
       "0"
      ]
     },
     "execution_count": 18,
     "metadata": {},
     "output_type": "execute_result"
    }
   ],
   "source": [
    "df.duplicated().sum()"
   ]
  },
  {
   "cell_type": "markdown",
   "metadata": {},
   "source": [
    "Прежде чем говорить о том, что мы избавились от всех дубликатов, взглянем ещё раз на значения в нашей таблице."
   ]
  },
  {
   "cell_type": "code",
   "execution_count": 19,
   "metadata": {},
   "outputs": [
    {
     "data": {
      "text/html": [
       "<div>\n",
       "<style scoped>\n",
       "    .dataframe tbody tr th:only-of-type {\n",
       "        vertical-align: middle;\n",
       "    }\n",
       "\n",
       "    .dataframe tbody tr th {\n",
       "        vertical-align: top;\n",
       "    }\n",
       "\n",
       "    .dataframe thead th {\n",
       "        text-align: right;\n",
       "    }\n",
       "</style>\n",
       "<table border=\"1\" class=\"dataframe\">\n",
       "  <thead>\n",
       "    <tr style=\"text-align: right;\">\n",
       "      <th></th>\n",
       "      <th>children</th>\n",
       "      <th>days_employed</th>\n",
       "      <th>dob_years</th>\n",
       "      <th>education</th>\n",
       "      <th>education_id</th>\n",
       "      <th>family_status</th>\n",
       "      <th>family_status_id</th>\n",
       "      <th>gender</th>\n",
       "      <th>income_type</th>\n",
       "      <th>debt</th>\n",
       "      <th>total_income</th>\n",
       "      <th>purpose</th>\n",
       "    </tr>\n",
       "  </thead>\n",
       "  <tbody>\n",
       "    <tr>\n",
       "      <td>0</td>\n",
       "      <td>1</td>\n",
       "      <td>8437</td>\n",
       "      <td>42</td>\n",
       "      <td>высшее</td>\n",
       "      <td>0</td>\n",
       "      <td>женат / замужем</td>\n",
       "      <td>0</td>\n",
       "      <td>F</td>\n",
       "      <td>сотрудник</td>\n",
       "      <td>0</td>\n",
       "      <td>253875</td>\n",
       "      <td>покупка жилья</td>\n",
       "    </tr>\n",
       "    <tr>\n",
       "      <td>1</td>\n",
       "      <td>1</td>\n",
       "      <td>4024</td>\n",
       "      <td>36</td>\n",
       "      <td>среднее</td>\n",
       "      <td>1</td>\n",
       "      <td>женат / замужем</td>\n",
       "      <td>0</td>\n",
       "      <td>F</td>\n",
       "      <td>сотрудник</td>\n",
       "      <td>0</td>\n",
       "      <td>112080</td>\n",
       "      <td>приобретение автомобиля</td>\n",
       "    </tr>\n",
       "    <tr>\n",
       "      <td>2</td>\n",
       "      <td>0</td>\n",
       "      <td>5623</td>\n",
       "      <td>33</td>\n",
       "      <td>Среднее</td>\n",
       "      <td>1</td>\n",
       "      <td>женат / замужем</td>\n",
       "      <td>0</td>\n",
       "      <td>M</td>\n",
       "      <td>сотрудник</td>\n",
       "      <td>0</td>\n",
       "      <td>145885</td>\n",
       "      <td>покупка жилья</td>\n",
       "    </tr>\n",
       "    <tr>\n",
       "      <td>3</td>\n",
       "      <td>3</td>\n",
       "      <td>4124</td>\n",
       "      <td>32</td>\n",
       "      <td>среднее</td>\n",
       "      <td>1</td>\n",
       "      <td>женат / замужем</td>\n",
       "      <td>0</td>\n",
       "      <td>M</td>\n",
       "      <td>сотрудник</td>\n",
       "      <td>0</td>\n",
       "      <td>267628</td>\n",
       "      <td>дополнительное образование</td>\n",
       "    </tr>\n",
       "    <tr>\n",
       "      <td>4</td>\n",
       "      <td>0</td>\n",
       "      <td>2029</td>\n",
       "      <td>53</td>\n",
       "      <td>среднее</td>\n",
       "      <td>1</td>\n",
       "      <td>гражданский брак</td>\n",
       "      <td>1</td>\n",
       "      <td>F</td>\n",
       "      <td>пенсионер</td>\n",
       "      <td>0</td>\n",
       "      <td>158616</td>\n",
       "      <td>сыграть свадьбу</td>\n",
       "    </tr>\n",
       "  </tbody>\n",
       "</table>\n",
       "</div>"
      ],
      "text/plain": [
       "   children  days_employed  dob_years education  education_id  \\\n",
       "0         1           8437         42    высшее             0   \n",
       "1         1           4024         36   среднее             1   \n",
       "2         0           5623         33   Среднее             1   \n",
       "3         3           4124         32   среднее             1   \n",
       "4         0           2029         53   среднее             1   \n",
       "\n",
       "      family_status  family_status_id gender income_type  debt  total_income  \\\n",
       "0   женат / замужем                 0      F   сотрудник     0        253875   \n",
       "1   женат / замужем                 0      F   сотрудник     0        112080   \n",
       "2   женат / замужем                 0      M   сотрудник     0        145885   \n",
       "3   женат / замужем                 0      M   сотрудник     0        267628   \n",
       "4  гражданский брак                 1      F   пенсионер     0        158616   \n",
       "\n",
       "                      purpose  \n",
       "0               покупка жилья  \n",
       "1     приобретение автомобиля  \n",
       "2               покупка жилья  \n",
       "3  дополнительное образование  \n",
       "4             сыграть свадьбу  "
      ]
     },
     "execution_count": 19,
     "metadata": {},
     "output_type": "execute_result"
    }
   ],
   "source": [
    "df.head()"
   ]
  },
  {
   "cell_type": "markdown",
   "metadata": {},
   "source": [
    "Сразу бросаются значения в столбце 'education'. Давайте посмотрим, все значения, которые он в себе содержит."
   ]
  },
  {
   "cell_type": "code",
   "execution_count": 20,
   "metadata": {},
   "outputs": [
    {
     "data": {
      "text/plain": [
       "среднее                13705\n",
       "высшее                  4710\n",
       "СРЕДНЕЕ                  772\n",
       "Среднее                  711\n",
       "неоконченное высшее      668\n",
       "ВЫСШЕЕ                   273\n",
       "Высшее                   268\n",
       "начальное                250\n",
       "Неоконченное высшее       47\n",
       "НЕОКОНЧЕННОЕ ВЫСШЕЕ       29\n",
       "НАЧАЛЬНОЕ                 17\n",
       "Начальное                 15\n",
       "ученая степень             4\n",
       "УЧЕНАЯ СТЕПЕНЬ             1\n",
       "Ученая степень             1\n",
       "Name: education, dtype: int64"
      ]
     },
     "execution_count": 20,
     "metadata": {},
     "output_type": "execute_result"
    }
   ],
   "source": [
    "df['education'].value_counts()"
   ]
  },
  {
   "cell_type": "markdown",
   "metadata": {},
   "source": [
    "Здесь одни и то же значения образования человека записаны в разном регистре, это могло содействовать потери дубликатов. Приведем все значения этого столбца к нижнему регистру и проведем проверку на дубликаты. В случае, если они появятся, уберем их."
   ]
  },
  {
   "cell_type": "code",
   "execution_count": 21,
   "metadata": {},
   "outputs": [],
   "source": [
    "df['education'] = df['education'].str.lower()"
   ]
  },
  {
   "cell_type": "code",
   "execution_count": 22,
   "metadata": {},
   "outputs": [
    {
     "data": {
      "text/plain": [
       "среднее                15188\n",
       "высшее                  5251\n",
       "неоконченное высшее      744\n",
       "начальное                282\n",
       "ученая степень             6\n",
       "Name: education, dtype: int64"
      ]
     },
     "execution_count": 22,
     "metadata": {},
     "output_type": "execute_result"
    }
   ],
   "source": [
    "df['education'].value_counts()"
   ]
  },
  {
   "cell_type": "code",
   "execution_count": 23,
   "metadata": {},
   "outputs": [
    {
     "data": {
      "text/plain": [
       "17"
      ]
     },
     "execution_count": 23,
     "metadata": {},
     "output_type": "execute_result"
    }
   ],
   "source": [
    "df.duplicated().sum()"
   ]
  },
  {
   "cell_type": "code",
   "execution_count": 24,
   "metadata": {},
   "outputs": [],
   "source": [
    "df = df.drop_duplicates().reset_index(drop = True)"
   ]
  },
  {
   "cell_type": "code",
   "execution_count": 25,
   "metadata": {
    "scrolled": true
   },
   "outputs": [
    {
     "data": {
      "text/plain": [
       "0"
      ]
     },
     "execution_count": 25,
     "metadata": {},
     "output_type": "execute_result"
    }
   ],
   "source": [
    "df.duplicated().sum()"
   ]
  },
  {
   "cell_type": "markdown",
   "metadata": {},
   "source": [
    "**Вывод**\n",
    "\n",
    "Избавились от строк, которые повторялись в нашей таблице. Нашли \"неявные дубликаты\", которые не видел метод duplicated() из-за написания значений в столбца 'education' в разном регистре. Привели все значение к единому регистру и избавились от найденных дубликатов"
   ]
  },
  {
   "cell_type": "markdown",
   "metadata": {},
   "source": [
    "### Лемматизация и категоризация данных"
   ]
  },
  {
   "cell_type": "markdown",
   "metadata": {},
   "source": [
    "Все время работы с данными о заемщиках, мне беспокоило, что цель запроса на кредит написана в свободной форме, ведь её можно разбить на определенные категории, а это даёт новые возможности.\n",
    "\n",
    "\n",
    "Я решил найти ключевые слова в формулировка целей взятия кредиты, чтобы мы смогли их категорировать. "
   ]
  },
  {
   "cell_type": "markdown",
   "metadata": {},
   "source": [
    "Чтобы иметь какое-то представление о данных, выведем все значения, которые хранятся в нашей таблице."
   ]
  },
  {
   "cell_type": "code",
   "execution_count": 26,
   "metadata": {},
   "outputs": [
    {
     "data": {
      "text/plain": [
       "свадьба                                   791\n",
       "на проведение свадьбы                     768\n",
       "сыграть свадьбу                           765\n",
       "операции с недвижимостью                  675\n",
       "покупка коммерческой недвижимости         661\n",
       "операции с жильем                         652\n",
       "покупка жилья для сдачи                   651\n",
       "операции с коммерческой недвижимостью     650\n",
       "жилье                                     646\n",
       "покупка жилья                             646\n",
       "покупка жилья для семьи                   638\n",
       "строительство собственной недвижимости    635\n",
       "недвижимость                              633\n",
       "операции со своей недвижимостью           627\n",
       "строительство жилой недвижимости          624\n",
       "покупка недвижимости                      621\n",
       "покупка своего жилья                      620\n",
       "строительство недвижимости                619\n",
       "ремонт жилью                              607\n",
       "покупка жилой недвижимости                606\n",
       "на покупку своего автомобиля              505\n",
       "заняться высшим образованием              496\n",
       "автомобиль                                494\n",
       "сделка с подержанным автомобилем          486\n",
       "автомобили                                478\n",
       "свой автомобиль                           478\n",
       "на покупку подержанного автомобиля        478\n",
       "на покупку автомобиля                     471\n",
       "приобретение автомобиля                   461\n",
       "дополнительное образование                460\n",
       "сделка с автомобилем                      455\n",
       "высшее образование                        452\n",
       "образование                               447\n",
       "получение дополнительного образования     446\n",
       "получение образования                     442\n",
       "профильное образование                    436\n",
       "получение высшего образования             426\n",
       "заняться образованием                     408\n",
       "Name: purpose, dtype: int64"
      ]
     },
     "execution_count": 26,
     "metadata": {},
     "output_type": "execute_result"
    }
   ],
   "source": [
    "df['purpose'].value_counts()"
   ]
  },
  {
   "cell_type": "markdown",
   "metadata": {},
   "source": [
    "В каждой из формулировки есть одно из этих слов: ['свадьба', 'недвижимость', 'жилье’, ‘автомобиль', 'образование'].\n",
    "Из этих слов  вывеle 4 категории (Недвижимость и жилье берем как одну): ['на проведение свадьбы', 'операции с недвижимостью', 'на покупку автомобиля', 'для получения образования'].\n"
   ]
  },
  {
   "cell_type": "markdown",
   "metadata": {},
   "source": [
    "Как мы это сделаем?\n",
    "Создадим функцию, которая будет брать строку, смотреть значение в ячейке 'purpose', лемматизировать его и искать ключевые слова, которые мы уже выделили. По ним будет создавать новый столбец 'purpose_category'"
   ]
  },
  {
   "cell_type": "code",
   "execution_count": 27,
   "metadata": {},
   "outputs": [],
   "source": [
    "# импортируем библиотеку pymystem3(преобразовывает слова к лемме):\n",
    "from pymystem3 import Mystem\n",
    "m = Mystem() "
   ]
  },
  {
   "cell_type": "code",
   "execution_count": 28,
   "metadata": {},
   "outputs": [],
   "source": [
    "#наша функция\n",
    "def purpose_category(purpose):\n",
    "    try:\n",
    "        for word in purpose.split():\n",
    "            word_lem = m.lemmatize(word)\n",
    "            if 'свадьба' in word_lem:\n",
    "                return 'на проведение свадьбы'\n",
    "            if 'недвижимость' in word_lem:\n",
    "                return 'операции с недвижимостью'\n",
    "            if 'жилье' in word_lem:\n",
    "                return 'операции с недвижимостью'\n",
    "            if 'автомобиль' in word_lem:\n",
    "                return 'на покупку автомобиля'\n",
    "            if 'образование' in word_lem:\n",
    "                return 'для получения образования'\n",
    "    except:\n",
    "        for word in purpose:\n",
    "            word_lem = m.lemmatize(word)\n",
    "            if 'свадьба' in word_lem:\n",
    "                return 'на проведение свадьбы'\n",
    "            if 'недвижимость' in word_lem:\n",
    "                return 'операции с недвижимостью'\n",
    "            if 'жилье' in word_lem:\n",
    "                return 'операции с недвижимостью'\n",
    "            if 'автомобиль' in word_lem:\n",
    "                return 'на покупку автомобиля'\n",
    "            if 'образование' in word_lem:\n",
    "                return 'для получения образования'        "
   ]
  },
  {
   "cell_type": "code",
   "execution_count": 29,
   "metadata": {},
   "outputs": [],
   "source": [
    "#применяем функцию к нашим данным и создаем столбец 'purpose_category'\n",
    "df['purpose_category'] = df['purpose'].apply(purpose_category)"
   ]
  },
  {
   "cell_type": "markdown",
   "metadata": {},
   "source": [
    "Функция отработала, теперь проверим, какие значения в себе хранит столбец 'purpose_category' и посмотрим на нашу таблицу"
   ]
  },
  {
   "cell_type": "code",
   "execution_count": 30,
   "metadata": {
    "scrolled": true
   },
   "outputs": [
    {
     "data": {
      "text/plain": [
       "операции с недвижимостью     10811\n",
       "на покупку автомобиля         4306\n",
       "для получения образования     4013\n",
       "на проведение свадьбы         2324\n",
       "Name: purpose_category, dtype: int64"
      ]
     },
     "execution_count": 30,
     "metadata": {},
     "output_type": "execute_result"
    }
   ],
   "source": [
    "df['purpose_category'].value_counts()"
   ]
  },
  {
   "cell_type": "code",
   "execution_count": 31,
   "metadata": {},
   "outputs": [
    {
     "data": {
      "text/html": [
       "<div>\n",
       "<style scoped>\n",
       "    .dataframe tbody tr th:only-of-type {\n",
       "        vertical-align: middle;\n",
       "    }\n",
       "\n",
       "    .dataframe tbody tr th {\n",
       "        vertical-align: top;\n",
       "    }\n",
       "\n",
       "    .dataframe thead th {\n",
       "        text-align: right;\n",
       "    }\n",
       "</style>\n",
       "<table border=\"1\" class=\"dataframe\">\n",
       "  <thead>\n",
       "    <tr style=\"text-align: right;\">\n",
       "      <th></th>\n",
       "      <th>children</th>\n",
       "      <th>days_employed</th>\n",
       "      <th>dob_years</th>\n",
       "      <th>education</th>\n",
       "      <th>education_id</th>\n",
       "      <th>family_status</th>\n",
       "      <th>family_status_id</th>\n",
       "      <th>gender</th>\n",
       "      <th>income_type</th>\n",
       "      <th>debt</th>\n",
       "      <th>total_income</th>\n",
       "      <th>purpose</th>\n",
       "      <th>purpose_category</th>\n",
       "    </tr>\n",
       "  </thead>\n",
       "  <tbody>\n",
       "    <tr>\n",
       "      <td>0</td>\n",
       "      <td>1</td>\n",
       "      <td>8437</td>\n",
       "      <td>42</td>\n",
       "      <td>высшее</td>\n",
       "      <td>0</td>\n",
       "      <td>женат / замужем</td>\n",
       "      <td>0</td>\n",
       "      <td>F</td>\n",
       "      <td>сотрудник</td>\n",
       "      <td>0</td>\n",
       "      <td>253875</td>\n",
       "      <td>покупка жилья</td>\n",
       "      <td>операции с недвижимостью</td>\n",
       "    </tr>\n",
       "    <tr>\n",
       "      <td>1</td>\n",
       "      <td>1</td>\n",
       "      <td>4024</td>\n",
       "      <td>36</td>\n",
       "      <td>среднее</td>\n",
       "      <td>1</td>\n",
       "      <td>женат / замужем</td>\n",
       "      <td>0</td>\n",
       "      <td>F</td>\n",
       "      <td>сотрудник</td>\n",
       "      <td>0</td>\n",
       "      <td>112080</td>\n",
       "      <td>приобретение автомобиля</td>\n",
       "      <td>на покупку автомобиля</td>\n",
       "    </tr>\n",
       "    <tr>\n",
       "      <td>2</td>\n",
       "      <td>0</td>\n",
       "      <td>5623</td>\n",
       "      <td>33</td>\n",
       "      <td>среднее</td>\n",
       "      <td>1</td>\n",
       "      <td>женат / замужем</td>\n",
       "      <td>0</td>\n",
       "      <td>M</td>\n",
       "      <td>сотрудник</td>\n",
       "      <td>0</td>\n",
       "      <td>145885</td>\n",
       "      <td>покупка жилья</td>\n",
       "      <td>операции с недвижимостью</td>\n",
       "    </tr>\n",
       "    <tr>\n",
       "      <td>3</td>\n",
       "      <td>3</td>\n",
       "      <td>4124</td>\n",
       "      <td>32</td>\n",
       "      <td>среднее</td>\n",
       "      <td>1</td>\n",
       "      <td>женат / замужем</td>\n",
       "      <td>0</td>\n",
       "      <td>M</td>\n",
       "      <td>сотрудник</td>\n",
       "      <td>0</td>\n",
       "      <td>267628</td>\n",
       "      <td>дополнительное образование</td>\n",
       "      <td>для получения образования</td>\n",
       "    </tr>\n",
       "    <tr>\n",
       "      <td>4</td>\n",
       "      <td>0</td>\n",
       "      <td>2029</td>\n",
       "      <td>53</td>\n",
       "      <td>среднее</td>\n",
       "      <td>1</td>\n",
       "      <td>гражданский брак</td>\n",
       "      <td>1</td>\n",
       "      <td>F</td>\n",
       "      <td>пенсионер</td>\n",
       "      <td>0</td>\n",
       "      <td>158616</td>\n",
       "      <td>сыграть свадьбу</td>\n",
       "      <td>на проведение свадьбы</td>\n",
       "    </tr>\n",
       "    <tr>\n",
       "      <td>5</td>\n",
       "      <td>0</td>\n",
       "      <td>926</td>\n",
       "      <td>27</td>\n",
       "      <td>высшее</td>\n",
       "      <td>0</td>\n",
       "      <td>гражданский брак</td>\n",
       "      <td>1</td>\n",
       "      <td>M</td>\n",
       "      <td>компаньон</td>\n",
       "      <td>0</td>\n",
       "      <td>255763</td>\n",
       "      <td>покупка жилья</td>\n",
       "      <td>операции с недвижимостью</td>\n",
       "    </tr>\n",
       "    <tr>\n",
       "      <td>6</td>\n",
       "      <td>0</td>\n",
       "      <td>2879</td>\n",
       "      <td>43</td>\n",
       "      <td>высшее</td>\n",
       "      <td>0</td>\n",
       "      <td>женат / замужем</td>\n",
       "      <td>0</td>\n",
       "      <td>F</td>\n",
       "      <td>компаньон</td>\n",
       "      <td>0</td>\n",
       "      <td>240525</td>\n",
       "      <td>операции с жильем</td>\n",
       "      <td>операции с недвижимостью</td>\n",
       "    </tr>\n",
       "    <tr>\n",
       "      <td>7</td>\n",
       "      <td>0</td>\n",
       "      <td>152</td>\n",
       "      <td>50</td>\n",
       "      <td>среднее</td>\n",
       "      <td>1</td>\n",
       "      <td>женат / замужем</td>\n",
       "      <td>0</td>\n",
       "      <td>M</td>\n",
       "      <td>сотрудник</td>\n",
       "      <td>0</td>\n",
       "      <td>135823</td>\n",
       "      <td>образование</td>\n",
       "      <td>для получения образования</td>\n",
       "    </tr>\n",
       "    <tr>\n",
       "      <td>8</td>\n",
       "      <td>2</td>\n",
       "      <td>6929</td>\n",
       "      <td>35</td>\n",
       "      <td>высшее</td>\n",
       "      <td>0</td>\n",
       "      <td>гражданский брак</td>\n",
       "      <td>1</td>\n",
       "      <td>F</td>\n",
       "      <td>сотрудник</td>\n",
       "      <td>0</td>\n",
       "      <td>95856</td>\n",
       "      <td>на проведение свадьбы</td>\n",
       "      <td>на проведение свадьбы</td>\n",
       "    </tr>\n",
       "    <tr>\n",
       "      <td>9</td>\n",
       "      <td>0</td>\n",
       "      <td>2188</td>\n",
       "      <td>41</td>\n",
       "      <td>среднее</td>\n",
       "      <td>1</td>\n",
       "      <td>женат / замужем</td>\n",
       "      <td>0</td>\n",
       "      <td>M</td>\n",
       "      <td>сотрудник</td>\n",
       "      <td>0</td>\n",
       "      <td>144425</td>\n",
       "      <td>покупка жилья для семьи</td>\n",
       "      <td>операции с недвижимостью</td>\n",
       "    </tr>\n",
       "  </tbody>\n",
       "</table>\n",
       "</div>"
      ],
      "text/plain": [
       "   children  days_employed  dob_years education  education_id  \\\n",
       "0         1           8437         42    высшее             0   \n",
       "1         1           4024         36   среднее             1   \n",
       "2         0           5623         33   среднее             1   \n",
       "3         3           4124         32   среднее             1   \n",
       "4         0           2029         53   среднее             1   \n",
       "5         0            926         27    высшее             0   \n",
       "6         0           2879         43    высшее             0   \n",
       "7         0            152         50   среднее             1   \n",
       "8         2           6929         35    высшее             0   \n",
       "9         0           2188         41   среднее             1   \n",
       "\n",
       "      family_status  family_status_id gender income_type  debt  total_income  \\\n",
       "0   женат / замужем                 0      F   сотрудник     0        253875   \n",
       "1   женат / замужем                 0      F   сотрудник     0        112080   \n",
       "2   женат / замужем                 0      M   сотрудник     0        145885   \n",
       "3   женат / замужем                 0      M   сотрудник     0        267628   \n",
       "4  гражданский брак                 1      F   пенсионер     0        158616   \n",
       "5  гражданский брак                 1      M   компаньон     0        255763   \n",
       "6   женат / замужем                 0      F   компаньон     0        240525   \n",
       "7   женат / замужем                 0      M   сотрудник     0        135823   \n",
       "8  гражданский брак                 1      F   сотрудник     0         95856   \n",
       "9   женат / замужем                 0      M   сотрудник     0        144425   \n",
       "\n",
       "                      purpose           purpose_category  \n",
       "0               покупка жилья   операции с недвижимостью  \n",
       "1     приобретение автомобиля      на покупку автомобиля  \n",
       "2               покупка жилья   операции с недвижимостью  \n",
       "3  дополнительное образование  для получения образования  \n",
       "4             сыграть свадьбу      на проведение свадьбы  \n",
       "5               покупка жилья   операции с недвижимостью  \n",
       "6           операции с жильем   операции с недвижимостью  \n",
       "7                 образование  для получения образования  \n",
       "8       на проведение свадьбы      на проведение свадьбы  \n",
       "9     покупка жилья для семьи   операции с недвижимостью  "
      ]
     },
     "execution_count": 31,
     "metadata": {},
     "output_type": "execute_result"
    }
   ],
   "source": [
    "df.head(10)"
   ]
  },
  {
   "cell_type": "markdown",
   "metadata": {},
   "source": [
    "**Вывод**\n",
    "\n",
    "С помощью лемматизации категорировали данные. На основе столбца 'purpose', вывели новый столбец 'purpose_category' с категориями цели обращения получения кредита. Создали функцию, которая, следуя алгоритма, относила данные к определенной категории, в функции использовали конструкцию try-except. С помощью метода apply() применили функцию к нашей структуре данных."
   ]
  },
  {
   "cell_type": "markdown",
   "metadata": {},
   "source": [
    "## Шаг 3. Ответьте на вопросы"
   ]
  },
  {
   "cell_type": "markdown",
   "metadata": {},
   "source": [
    "- Есть ли зависимость между наличием детей и возвратом кредита в срок?"
   ]
  },
  {
   "cell_type": "markdown",
   "metadata": {},
   "source": [
    "Для того, чтобы понять, есть ли зависимость между наличием детей и возвратом кредита в срок, сгруппировал данные по столбцу 'children' и среднему значению столбца 'debt'. Выведем полученный результат."
   ]
  },
  {
   "cell_type": "code",
   "execution_count": 32,
   "metadata": {},
   "outputs": [
    {
     "data": {
      "text/plain": [
       "children\n",
       "20    0.105263\n",
       "4     0.097561\n",
       "2     0.094542\n",
       "1     0.091658\n",
       "3     0.081818\n",
       "0     0.075438\n",
       "5     0.000000\n",
       "Name: debt, dtype: float64"
      ]
     },
     "execution_count": 32,
     "metadata": {},
     "output_type": "execute_result"
    }
   ],
   "source": [
    "df.groupby('children')['debt'].mean().sort_values(ascending = False)"
   ]
  },
  {
   "cell_type": "markdown",
   "metadata": {},
   "source": [
    "Процент выплаты кредита в срок у семей с 5ю детьми равен 0. Это очень странно, возможно, в нашей структуре мало случаев таких семей и все они не погасили кредит вовремя. Если это так, то эту строку можно не учитывать, давая ответ на нашу гипотезу."
   ]
  },
  {
   "cell_type": "code",
   "execution_count": 33,
   "metadata": {},
   "outputs": [
    {
     "data": {
      "text/plain": [
       "9"
      ]
     },
     "execution_count": 33,
     "metadata": {},
     "output_type": "execute_result"
    }
   ],
   "source": [
    "len(df[df['children'] == 5])"
   ]
  },
  {
   "cell_type": "markdown",
   "metadata": {},
   "source": [
    "**Вывод**\n",
    "\n",
    "Что мы имеем: у супер-многодетных семей процент погашения кредита в срок больше, чем у других. А самый маленький шанс у семей с 5 детьми. Данными о семьях с 5ю детьми можно пренебречь, т.к. таких случаев всего 9. Таким образом, если не брать во внимание статистику по возврату денег семьями с 5ю детьми, можем сделать вывод, что семьи с детьми имеют больший шанс возврата кредита вовремя."
   ]
  },
  {
   "cell_type": "markdown",
   "metadata": {},
   "source": [
    "- Есть ли зависимость между семейным положением и возвратом кредита в срок?"
   ]
  },
  {
   "cell_type": "markdown",
   "metadata": {},
   "source": [
    "Для того, чтобы понять, есть ли зависимость между семейным положением и возвратом кредита в срок, сгруппировал данные по столбцу 'family_status' и среднему значению столбца 'debt'. Отсортируем результат по убыванию и выведем его."
   ]
  },
  {
   "cell_type": "code",
   "execution_count": 34,
   "metadata": {},
   "outputs": [
    {
     "data": {
      "text/plain": [
       "family_status\n",
       "Не женат / не замужем    0.097509\n",
       "гражданский брак         0.093471\n",
       "женат / замужем          0.075452\n",
       "в разводе                0.071130\n",
       "вдовец / вдова           0.065693\n",
       "Name: debt, dtype: float64"
      ]
     },
     "execution_count": 34,
     "metadata": {},
     "output_type": "execute_result"
    }
   ],
   "source": [
    "df.groupby('family_status')['debt'].mean().sort_values(ascending = False)"
   ]
  },
  {
   "cell_type": "markdown",
   "metadata": {},
   "source": [
    "**Вывод**\n",
    "\n",
    "На 1 месте находятся люди, не состоящие в браке. На 2 и 3 люди, которые находятся в отношениях. А на последние места попали люди, которые пережили расставание со своей парой. Можно вывести следующую зависимость. Человек, который ещё не заключил брак официально, имеет самый большой шанс вернуть кредит вовремя (между 1 и 2 места разница в 0.4%). А при расставании человек имеет самый маленький шанс возврата кредита в назначенный срок. Можно сделать вывод, что любовные отношения плохо влияют на возможность вернуть кредит (благосостояние), так что лучше в них не вступать (шутка, но закономерность все-таки есть)."
   ]
  },
  {
   "cell_type": "markdown",
   "metadata": {},
   "source": [
    "- Есть ли зависимость между уровнем дохода и возвратом кредита в срок?"
   ]
  },
  {
   "cell_type": "markdown",
   "metadata": {},
   "source": [
    "Чтобы вывести зависимость между уровнем дохода и возвратом кредита в срок. Разобьём нашу структуру данных на группы по доходу, посчитаем среднее значение столбца 'debt' и выведем на экран."
   ]
  },
  {
   "cell_type": "markdown",
   "metadata": {},
   "source": [
    "Поделим группы по доходу на 4 части. Для этого воспользуемся методом describe() и выберем диапазон для наших групп."
   ]
  },
  {
   "cell_type": "code",
   "execution_count": 35,
   "metadata": {},
   "outputs": [
    {
     "data": {
      "text/plain": [
       "count    2.145400e+04\n",
       "mean     1.510105e+05\n",
       "std      1.097366e+05\n",
       "min      0.000000e+00\n",
       "25%      8.908850e+04\n",
       "50%      1.357810e+05\n",
       "75%      1.958132e+05\n",
       "max      2.265604e+06\n",
       "Name: total_income, dtype: float64"
      ]
     },
     "execution_count": 35,
     "metadata": {},
     "output_type": "execute_result"
    }
   ],
   "source": [
    "df['total_income'].describe()"
   ]
  },
  {
   "cell_type": "markdown",
   "metadata": {},
   "source": [
    "Диапазон: [[0 - 90 000); [90 000 - 140 000); [140 000 - 200 000); [200 000- 2 700 000)].\n",
    "\n",
    "Диапазон выбран, теперь группируем нашу структуру данных и выводим статистику."
   ]
  },
  {
   "cell_type": "code",
   "execution_count": 36,
   "metadata": {},
   "outputs": [],
   "source": [
    "df_25 = df[(df['total_income'] >= 0) & (df['total_income'] < 90000)]\n",
    "df_50 = df[(df['total_income'] >= 90000) & (df['total_income'] < 140000)]\n",
    "df_75 = df[(df['total_income'] >= 140000) & (df['total_income'] < 200000)]\n",
    "df_100 = df[(df['total_income'] >= 200000) & (df['total_income'] < 2700000)]"
   ]
  },
  {
   "cell_type": "code",
   "execution_count": 37,
   "metadata": {},
   "outputs": [
    {
     "name": "stdout",
     "output_type": "stream",
     "text": [
      "total_income\n",
      "0 - 90 000:              7.93%\n",
      "90 000 - 140 000:        8.41%\n",
      "140 000 - 200 000:       9.02%\n",
      "200 000 - 2 700 000:     7.07%\n"
     ]
    }
   ],
   "source": [
    "print('total_income')\n",
    "print('0 - 90 000:', '             {:.2%}'.format(df_25['debt'].mean()))\n",
    "print('90 000 - 140 000:', '       {:.2%}'.format(df_50['debt'].mean()))\n",
    "print('140 000 - 200 000:', '      {:.2%}'.format(df_75['debt'].mean()))\n",
    "print('200 000 - 2 700 000:', '    {:.2%}'.format(df_100['debt'].mean()))"
   ]
  },
  {
   "cell_type": "markdown",
   "metadata": {},
   "source": [
    "**Вывод**\n",
    "\n",
    "Какой вывод можно сделать из данных. Прямой зависимости между уровнем дохода и возвратом кредита в срок не наблюдается. Видно лишь, что самые надёжные заёмщики - это люди, у которых доход - чуть выше среднего. А вот то, что удивляет, это то, что самый маленький процент погашения кредита в срок имеет группа с наивысшим доходом."
   ]
  },
  {
   "cell_type": "markdown",
   "metadata": {},
   "source": [
    "- Как разные цели кредита влияют на его возврат в срок?"
   ]
  },
  {
   "cell_type": "code",
   "execution_count": 38,
   "metadata": {
    "scrolled": true
   },
   "outputs": [
    {
     "data": {
      "text/plain": [
       "purpose_category\n",
       "на покупку автомобиля        0.093590\n",
       "для получения образования    0.092200\n",
       "на проведение свадьбы        0.080034\n",
       "операции с недвижимостью     0.072334\n",
       "Name: debt, dtype: float64"
      ]
     },
     "execution_count": 38,
     "metadata": {},
     "output_type": "execute_result"
    }
   ],
   "source": [
    "df.groupby('purpose_category')['debt'].mean().sort_values(ascending = False)"
   ]
  },
  {
   "cell_type": "markdown",
   "metadata": {},
   "source": [
    "**Вывод**\n",
    "\n",
    "В данной статистике видно, что выдача кретила 'на покупку автомобиля' и 'для получения образования' cамые надежные. А вот займ для 'операции с недвижимостью' люди чаще всего любят просрочивать. "
   ]
  },
  {
   "cell_type": "markdown",
   "metadata": {},
   "source": [
    "## Шаг 4. Общий вывод\n",
    "\n",
    "Рабочие гипотезы:\n",
    "\n",
    "* Есть ли зависимость между наличием детей и возвратом кредита в срок?\n",
    "    \n",
    "* Есть ли зависимость между семейным положением и возвратом кредита в срок?\n",
    "    \n",
    "* Есть ли зависимость между уровнем дохода и возвратом кредита в срок?\n",
    "\n",
    "* Как разные цели кредита влияют на его возврат в срок?\n",
    "\n",
    "**Общие результаты**\n",
    "\n",
    "Связать факт выплаченного или невыплаченного займа я попробовал со несколькими займами. И что же я выяснил:\n",
    "\n",
    "* Люди без детей являются менее надежными заёмщиками.\n",
    "\n",
    "* Чаще всего люди возвращают задолженность вовремя, не прочувствовав семейную жизнь. А реже всего те люди, чей брак стал недействительным по каким-либо причинам.\n",
    "\n",
    "* Самое интересное я обнаружил здесь. Оказывается, самые богатые люди являются самыми ненадежными заёмщиками. А самыми надежными являются люди со средним достатком\n",
    "\n",
    "* В гипотезе, где нужно связать цель получения кредита с фактом возврата в срок, я не смог дать разумное объяснение или закономерность, поэтому могу лишь констатировать факт. А заключается он в следующем: Люди которые берут кредит на машину или для получения образование чаще других погашают задолженность в срок. За ними в списке рейтинга надёжных заёмщиков идут люди, которые берут кредит на свадьбу, это можно попробовать объяснить тем, что после свадьбы, молодожены устраивают свой быт, а на это, обычно, уходит много ресурсов. Ну и самые ненадежные идут люди, берущие квартиру в кредит. Мне пока сложно объяснить почему так происходит, как возьму ипотеку и выплачу дополню проект.\n"
   ]
  }
 ],
 "metadata": {
  "ExecuteTimeLog": [
   {
    "duration": 866,
    "start_time": "2021-08-10T13:36:37.709Z"
   },
   {
    "duration": 3,
    "start_time": "2021-08-10T13:37:07.064Z"
   },
   {
    "duration": 4,
    "start_time": "2021-08-10T13:38:15.894Z"
   },
   {
    "duration": 68,
    "start_time": "2021-08-10T13:46:27.371Z"
   },
   {
    "duration": 64,
    "start_time": "2021-08-10T13:47:14.311Z"
   },
   {
    "duration": 72,
    "start_time": "2021-08-10T13:47:21.390Z"
   },
   {
    "duration": 64,
    "start_time": "2021-08-10T13:47:41.452Z"
   },
   {
    "duration": 29,
    "start_time": "2021-08-10T13:48:38.913Z"
   },
   {
    "duration": 15,
    "start_time": "2021-08-10T13:49:28.244Z"
   },
   {
    "duration": 14,
    "start_time": "2021-08-10T14:07:05.547Z"
   },
   {
    "duration": 48,
    "start_time": "2021-08-10T14:12:03.724Z"
   },
   {
    "duration": 13,
    "start_time": "2021-08-10T14:35:16.754Z"
   },
   {
    "duration": 5,
    "start_time": "2021-08-10T14:36:52.954Z"
   },
   {
    "duration": 45,
    "start_time": "2021-08-10T14:37:34.748Z"
   },
   {
    "duration": 65,
    "start_time": "2021-08-10T14:43:14.938Z"
   },
   {
    "duration": 6965,
    "start_time": "2021-08-10T14:43:18.701Z"
   },
   {
    "duration": -714,
    "start_time": "2021-08-10T14:43:26.386Z"
   },
   {
    "duration": 51,
    "start_time": "2021-08-10T14:43:29.494Z"
   },
   {
    "duration": 3,
    "start_time": "2021-08-10T14:43:36.223Z"
   },
   {
    "duration": 6,
    "start_time": "2021-08-10T14:47:12.311Z"
   },
   {
    "duration": 302,
    "start_time": "2021-08-10T14:48:09.722Z"
   },
   {
    "duration": 6,
    "start_time": "2021-08-10T14:48:23.998Z"
   },
   {
    "duration": 7,
    "start_time": "2021-08-10T14:50:15.757Z"
   },
   {
    "duration": 4,
    "start_time": "2021-08-10T14:50:37.105Z"
   },
   {
    "duration": 6,
    "start_time": "2021-08-10T14:51:05.213Z"
   },
   {
    "duration": 5,
    "start_time": "2021-08-10T14:51:24.006Z"
   },
   {
    "duration": 12,
    "start_time": "2021-08-10T14:51:32.766Z"
   },
   {
    "duration": 14,
    "start_time": "2021-08-10T14:52:00.394Z"
   },
   {
    "duration": 27,
    "start_time": "2021-08-10T15:02:15.926Z"
   },
   {
    "duration": 13,
    "start_time": "2021-08-10T15:02:20.164Z"
   },
   {
    "duration": 11,
    "start_time": "2021-08-10T15:08:46.164Z"
   },
   {
    "duration": 11,
    "start_time": "2021-08-10T15:11:48.988Z"
   },
   {
    "duration": 11,
    "start_time": "2021-08-10T15:12:02.502Z"
   },
   {
    "duration": 48,
    "start_time": "2021-08-10T15:34:15.211Z"
   },
   {
    "duration": 14,
    "start_time": "2021-08-10T15:39:50.389Z"
   },
   {
    "duration": 15,
    "start_time": "2021-08-10T15:40:32.938Z"
   },
   {
    "duration": 12,
    "start_time": "2021-08-10T15:41:21.682Z"
   },
   {
    "duration": 3,
    "start_time": "2021-08-10T15:41:26.710Z"
   },
   {
    "duration": 63,
    "start_time": "2021-08-10T15:41:27.807Z"
   },
   {
    "duration": 19,
    "start_time": "2021-08-10T15:41:35.704Z"
   },
   {
    "duration": 15,
    "start_time": "2021-08-10T15:41:38.137Z"
   },
   {
    "duration": 13,
    "start_time": "2021-08-10T15:41:41.086Z"
   },
   {
    "duration": 11,
    "start_time": "2021-08-10T15:41:44.207Z"
   },
   {
    "duration": 17,
    "start_time": "2021-08-10T15:41:47.423Z"
   },
   {
    "duration": 292,
    "start_time": "2021-08-10T15:43:01.823Z"
   },
   {
    "duration": 45,
    "start_time": "2021-08-10T15:43:06.062Z"
   },
   {
    "duration": 15,
    "start_time": "2021-08-10T16:02:22.563Z"
   },
   {
    "duration": 46,
    "start_time": "2021-08-10T16:10:11.123Z"
   },
   {
    "duration": 5,
    "start_time": "2021-08-10T16:18:25.338Z"
   },
   {
    "duration": 45,
    "start_time": "2021-08-10T16:18:56.897Z"
   },
   {
    "duration": 7,
    "start_time": "2021-08-10T16:19:30.617Z"
   },
   {
    "duration": 6,
    "start_time": "2021-08-10T16:19:34.798Z"
   },
   {
    "duration": 7,
    "start_time": "2021-08-10T16:20:57.756Z"
   },
   {
    "duration": 7,
    "start_time": "2021-08-10T16:21:18.558Z"
   },
   {
    "duration": 7,
    "start_time": "2021-08-10T16:21:22.473Z"
   },
   {
    "duration": 7,
    "start_time": "2021-08-10T16:21:29.125Z"
   },
   {
    "duration": 7,
    "start_time": "2021-08-10T16:21:34.284Z"
   },
   {
    "duration": 7,
    "start_time": "2021-08-10T16:21:37.175Z"
   },
   {
    "duration": 7,
    "start_time": "2021-08-10T16:21:40.219Z"
   },
   {
    "duration": 7,
    "start_time": "2021-08-10T16:21:46.793Z"
   },
   {
    "duration": 8,
    "start_time": "2021-08-10T16:22:02.389Z"
   },
   {
    "duration": 93,
    "start_time": "2021-08-10T16:31:16.199Z"
   },
   {
    "duration": 36,
    "start_time": "2021-08-10T16:31:21.621Z"
   },
   {
    "duration": 11,
    "start_time": "2021-08-10T16:32:06.784Z"
   },
   {
    "duration": 76,
    "start_time": "2021-08-10T16:32:16.589Z"
   },
   {
    "duration": 12,
    "start_time": "2021-08-10T16:32:21.763Z"
   },
   {
    "duration": 12,
    "start_time": "2021-08-10T16:32:45.781Z"
   },
   {
    "duration": 35,
    "start_time": "2021-08-10T16:32:48.823Z"
   },
   {
    "duration": 36,
    "start_time": "2021-08-10T16:33:56.610Z"
   },
   {
    "duration": 11,
    "start_time": "2021-08-10T16:34:11.445Z"
   },
   {
    "duration": 424,
    "start_time": "2021-08-10T16:34:32.225Z"
   },
   {
    "duration": 12,
    "start_time": "2021-08-10T16:34:39.875Z"
   },
   {
    "duration": 13,
    "start_time": "2021-08-10T16:35:04.240Z"
   },
   {
    "duration": 13,
    "start_time": "2021-08-10T16:35:09.712Z"
   },
   {
    "duration": 36,
    "start_time": "2021-08-10T16:35:42.469Z"
   },
   {
    "duration": 14,
    "start_time": "2021-08-10T16:43:36.977Z"
   },
   {
    "duration": 274,
    "start_time": "2021-08-10T16:44:01.314Z"
   },
   {
    "duration": 13,
    "start_time": "2021-08-10T16:44:06.100Z"
   },
   {
    "duration": 34,
    "start_time": "2021-08-10T16:44:42.746Z"
   },
   {
    "duration": 14,
    "start_time": "2021-08-10T16:44:56.952Z"
   },
   {
    "duration": 324,
    "start_time": "2021-08-10T16:45:43.954Z"
   },
   {
    "duration": 264,
    "start_time": "2021-08-10T16:45:50.219Z"
   },
   {
    "duration": 7,
    "start_time": "2021-08-10T16:47:58.607Z"
   },
   {
    "duration": 11,
    "start_time": "2021-08-10T16:49:15.519Z"
   },
   {
    "duration": 4,
    "start_time": "2021-08-10T16:49:23.364Z"
   },
   {
    "duration": 80,
    "start_time": "2021-08-10T16:49:24.187Z"
   },
   {
    "duration": 19,
    "start_time": "2021-08-10T16:49:25.218Z"
   },
   {
    "duration": 14,
    "start_time": "2021-08-10T16:49:27.640Z"
   },
   {
    "duration": 12,
    "start_time": "2021-08-10T16:49:33.820Z"
   },
   {
    "duration": 11,
    "start_time": "2021-08-10T16:49:37.252Z"
   },
   {
    "duration": 13,
    "start_time": "2021-08-10T16:49:46.046Z"
   },
   {
    "duration": 12,
    "start_time": "2021-08-10T16:49:49.544Z"
   },
   {
    "duration": 15,
    "start_time": "2021-08-10T16:49:51.236Z"
   },
   {
    "duration": 47,
    "start_time": "2021-08-10T16:49:55.080Z"
   },
   {
    "duration": 5,
    "start_time": "2021-08-10T16:49:58.500Z"
   },
   {
    "duration": 47,
    "start_time": "2021-08-10T16:50:00.797Z"
   },
   {
    "duration": 7,
    "start_time": "2021-08-10T17:00:57.845Z"
   },
   {
    "duration": 3,
    "start_time": "2021-08-10T17:12:08.868Z"
   },
   {
    "duration": 5,
    "start_time": "2021-08-10T17:12:16.450Z"
   },
   {
    "duration": 6460,
    "start_time": "2021-08-10T17:14:02.409Z"
   },
   {
    "duration": 285,
    "start_time": "2021-08-10T17:16:16.840Z"
   },
   {
    "duration": 4,
    "start_time": "2021-08-10T17:16:37.668Z"
   },
   {
    "duration": 3,
    "start_time": "2021-08-10T17:17:47.767Z"
   },
   {
    "duration": 257,
    "start_time": "2021-08-10T17:18:31.566Z"
   },
   {
    "duration": 261,
    "start_time": "2021-08-10T17:18:46.388Z"
   },
   {
    "duration": 15,
    "start_time": "2021-08-10T17:19:23.564Z"
   },
   {
    "duration": -521,
    "start_time": "2021-08-10T17:19:56.005Z"
   },
   {
    "duration": 7013,
    "start_time": "2021-08-10T17:20:00.948Z"
   },
   {
    "duration": 11,
    "start_time": "2021-08-10T17:20:10.055Z"
   },
   {
    "duration": 12,
    "start_time": "2021-08-10T17:20:22.883Z"
   },
   {
    "duration": 265,
    "start_time": "2021-08-10T17:20:32.675Z"
   },
   {
    "duration": 11,
    "start_time": "2021-08-10T17:20:40.556Z"
   },
   {
    "duration": 10,
    "start_time": "2021-08-10T17:26:43.596Z"
   },
   {
    "duration": 134,
    "start_time": "2021-08-10T17:28:38.859Z"
   },
   {
    "duration": 11,
    "start_time": "2021-08-10T17:33:05.395Z"
   },
   {
    "duration": 9121,
    "start_time": "2021-08-10T17:34:44.439Z"
   },
   {
    "duration": 8169,
    "start_time": "2021-08-10T17:34:58.636Z"
   },
   {
    "duration": 249,
    "start_time": "2021-08-10T17:35:29.167Z"
   },
   {
    "duration": 7172,
    "start_time": "2021-08-10T17:35:34.722Z"
   },
   {
    "duration": 256,
    "start_time": "2021-08-10T17:36:36.820Z"
   },
   {
    "duration": 9,
    "start_time": "2021-08-10T17:37:11.961Z"
   },
   {
    "duration": 453,
    "start_time": "2021-08-10T17:37:13.667Z"
   },
   {
    "duration": 500,
    "start_time": "2021-08-10T17:37:42.985Z"
   },
   {
    "duration": 7,
    "start_time": "2021-08-10T17:38:05.902Z"
   },
   {
    "duration": 851,
    "start_time": "2021-08-10T17:38:07.926Z"
   },
   {
    "duration": 84,
    "start_time": "2021-08-10T17:38:20.611Z"
   },
   {
    "duration": 241,
    "start_time": "2021-08-10T17:38:31.398Z"
   },
   {
    "duration": 4,
    "start_time": "2021-08-10T17:39:05.816Z"
   },
   {
    "duration": 64,
    "start_time": "2021-08-10T17:39:06.757Z"
   },
   {
    "duration": 19,
    "start_time": "2021-08-10T17:39:07.973Z"
   },
   {
    "duration": 18,
    "start_time": "2021-08-10T17:39:09.210Z"
   },
   {
    "duration": 13,
    "start_time": "2021-08-10T17:39:11.347Z"
   },
   {
    "duration": 11,
    "start_time": "2021-08-10T17:39:12.337Z"
   },
   {
    "duration": 16,
    "start_time": "2021-08-10T17:39:13.795Z"
   },
   {
    "duration": 46,
    "start_time": "2021-08-10T17:39:15.824Z"
   },
   {
    "duration": 6,
    "start_time": "2021-08-10T17:39:16.887Z"
   },
   {
    "duration": 48,
    "start_time": "2021-08-10T17:39:17.593Z"
   },
   {
    "duration": 9,
    "start_time": "2021-08-10T17:39:18.985Z"
   },
   {
    "duration": 271,
    "start_time": "2021-08-10T17:39:19.842Z"
   },
   {
    "duration": 45,
    "start_time": "2021-08-10T17:39:36.989Z"
   },
   {
    "duration": 6,
    "start_time": "2021-08-10T17:39:58.357Z"
   },
   {
    "duration": 5,
    "start_time": "2021-08-10T17:40:04.221Z"
   },
   {
    "duration": 9,
    "start_time": "2021-08-10T17:40:12.577Z"
   },
   {
    "duration": 5,
    "start_time": "2021-08-10T17:40:14.502Z"
   },
   {
    "duration": 434,
    "start_time": "2021-08-10T17:40:23.443Z"
   },
   {
    "duration": 7,
    "start_time": "2021-08-10T17:40:37.821Z"
   },
   {
    "duration": 522,
    "start_time": "2021-08-10T17:40:39.690Z"
   },
   {
    "duration": 4,
    "start_time": "2021-08-10T17:40:47.993Z"
   },
   {
    "duration": 63,
    "start_time": "2021-08-10T17:40:48.362Z"
   },
   {
    "duration": 19,
    "start_time": "2021-08-10T17:40:48.656Z"
   },
   {
    "duration": 16,
    "start_time": "2021-08-10T17:40:48.925Z"
   },
   {
    "duration": 13,
    "start_time": "2021-08-10T17:40:49.846Z"
   },
   {
    "duration": 12,
    "start_time": "2021-08-10T17:40:50.037Z"
   },
   {
    "duration": 16,
    "start_time": "2021-08-10T17:40:50.978Z"
   },
   {
    "duration": 48,
    "start_time": "2021-08-10T17:40:55.112Z"
   },
   {
    "duration": 7,
    "start_time": "2021-08-10T17:40:55.941Z"
   },
   {
    "duration": 47,
    "start_time": "2021-08-10T17:40:56.975Z"
   },
   {
    "duration": 5,
    "start_time": "2021-08-10T17:42:18.843Z"
   },
   {
    "duration": 10,
    "start_time": "2021-08-10T17:42:23.114Z"
   },
   {
    "duration": 5,
    "start_time": "2021-08-10T17:42:24.421Z"
   },
   {
    "duration": 10,
    "start_time": "2021-08-10T17:42:43.245Z"
   },
   {
    "duration": 5,
    "start_time": "2021-08-10T17:42:44.203Z"
   },
   {
    "duration": 8,
    "start_time": "2021-08-10T17:42:50.412Z"
   },
   {
    "duration": 5,
    "start_time": "2021-08-10T17:42:52.495Z"
   },
   {
    "duration": 3,
    "start_time": "2021-08-10T17:42:55.466Z"
   },
   {
    "duration": 9,
    "start_time": "2021-08-10T17:43:41.174Z"
   },
   {
    "duration": 407,
    "start_time": "2021-08-10T17:43:45.316Z"
   },
   {
    "duration": 367,
    "start_time": "2021-08-10T17:44:21.675Z"
   },
   {
    "duration": 565,
    "start_time": "2021-08-10T17:44:29.610Z"
   },
   {
    "duration": 580,
    "start_time": "2021-08-10T17:44:33.198Z"
   },
   {
    "duration": 558,
    "start_time": "2021-08-10T17:44:38.771Z"
   },
   {
    "duration": 3,
    "start_time": "2021-08-10T17:45:52.613Z"
   },
   {
    "duration": 66,
    "start_time": "2021-08-10T17:45:53.358Z"
   },
   {
    "duration": 19,
    "start_time": "2021-08-10T17:45:53.426Z"
   },
   {
    "duration": 15,
    "start_time": "2021-08-10T17:45:53.607Z"
   },
   {
    "duration": 13,
    "start_time": "2021-08-10T17:45:54.835Z"
   },
   {
    "duration": 10,
    "start_time": "2021-08-10T17:45:55.494Z"
   },
   {
    "duration": 16,
    "start_time": "2021-08-10T17:45:56.296Z"
   },
   {
    "duration": 49,
    "start_time": "2021-08-10T17:45:57.741Z"
   },
   {
    "duration": 5,
    "start_time": "2021-08-10T17:45:58.442Z"
   },
   {
    "duration": 46,
    "start_time": "2021-08-10T17:45:59.482Z"
   },
   {
    "duration": 8,
    "start_time": "2021-08-10T17:46:00.958Z"
   },
   {
    "duration": 363,
    "start_time": "2021-08-10T17:46:01.879Z"
   },
   {
    "duration": 6,
    "start_time": "2021-08-10T17:46:17.300Z"
   },
   {
    "duration": 12,
    "start_time": "2021-08-10T17:46:29.435Z"
   },
   {
    "duration": 15,
    "start_time": "2021-08-10T17:53:48.138Z"
   },
   {
    "duration": 4,
    "start_time": "2021-08-10T17:53:55.782Z"
   },
   {
    "duration": 64,
    "start_time": "2021-08-10T17:53:56.247Z"
   },
   {
    "duration": 20,
    "start_time": "2021-08-10T17:53:56.782Z"
   },
   {
    "duration": 14,
    "start_time": "2021-08-10T17:53:57.157Z"
   },
   {
    "duration": 13,
    "start_time": "2021-08-10T17:53:58.308Z"
   },
   {
    "duration": 10,
    "start_time": "2021-08-10T17:53:58.815Z"
   },
   {
    "duration": 15,
    "start_time": "2021-08-10T17:53:59.811Z"
   },
   {
    "duration": 46,
    "start_time": "2021-08-10T17:54:01.607Z"
   },
   {
    "duration": 6,
    "start_time": "2021-08-10T17:54:02.863Z"
   },
   {
    "duration": 45,
    "start_time": "2021-08-10T17:54:03.502Z"
   },
   {
    "duration": 16,
    "start_time": "2021-08-10T17:54:04.831Z"
   },
   {
    "duration": 11,
    "start_time": "2021-08-10T17:54:05.636Z"
   },
   {
    "duration": 3,
    "start_time": "2021-08-10T17:54:40.944Z"
   },
   {
    "duration": 62,
    "start_time": "2021-08-10T17:54:41.299Z"
   },
   {
    "duration": 19,
    "start_time": "2021-08-10T17:54:41.676Z"
   },
   {
    "duration": 15,
    "start_time": "2021-08-10T17:54:42.043Z"
   },
   {
    "duration": 14,
    "start_time": "2021-08-10T17:54:43.438Z"
   },
   {
    "duration": 11,
    "start_time": "2021-08-10T17:54:44.019Z"
   },
   {
    "duration": 15,
    "start_time": "2021-08-10T17:54:45.029Z"
   },
   {
    "duration": 46,
    "start_time": "2021-08-10T17:54:46.261Z"
   },
   {
    "duration": 6,
    "start_time": "2021-08-10T17:54:46.936Z"
   },
   {
    "duration": 47,
    "start_time": "2021-08-10T17:54:47.653Z"
   },
   {
    "duration": 19,
    "start_time": "2021-08-10T17:54:48.883Z"
   },
   {
    "duration": 12,
    "start_time": "2021-08-10T17:54:49.379Z"
   },
   {
    "duration": 47,
    "start_time": "2021-08-10T17:56:00.405Z"
   },
   {
    "duration": 18,
    "start_time": "2021-08-10T17:58:42.092Z"
   },
   {
    "duration": 45,
    "start_time": "2021-08-10T17:58:42.810Z"
   },
   {
    "duration": 15,
    "start_time": "2021-08-10T18:00:16.520Z"
   },
   {
    "duration": 6,
    "start_time": "2021-08-10T18:17:26.352Z"
   },
   {
    "duration": 15,
    "start_time": "2021-08-10T18:17:38.103Z"
   },
   {
    "duration": 23,
    "start_time": "2021-08-10T18:20:43.958Z"
   },
   {
    "duration": 80,
    "start_time": "2021-08-10T18:21:34.098Z"
   },
   {
    "duration": 22,
    "start_time": "2021-08-10T18:21:40.390Z"
   },
   {
    "duration": 17,
    "start_time": "2021-08-10T18:22:50.583Z"
   },
   {
    "duration": 50,
    "start_time": "2021-08-10T19:41:01.974Z"
   },
   {
    "duration": 22,
    "start_time": "2021-08-10T19:41:17.703Z"
   },
   {
    "duration": 27,
    "start_time": "2021-08-10T19:41:27.158Z"
   },
   {
    "duration": 24,
    "start_time": "2021-08-10T19:41:28.973Z"
   },
   {
    "duration": 22,
    "start_time": "2021-08-10T19:42:48.154Z"
   },
   {
    "duration": 518,
    "start_time": "2021-08-11T12:38:10.810Z"
   },
   {
    "duration": 773,
    "start_time": "2021-08-11T12:38:24.221Z"
   },
   {
    "duration": 65,
    "start_time": "2021-08-11T12:38:24.997Z"
   },
   {
    "duration": 36,
    "start_time": "2021-08-11T12:38:25.065Z"
   },
   {
    "duration": 15,
    "start_time": "2021-08-11T12:38:25.253Z"
   },
   {
    "duration": 13,
    "start_time": "2021-08-11T12:38:26.292Z"
   },
   {
    "duration": 13,
    "start_time": "2021-08-11T12:38:26.674Z"
   },
   {
    "duration": 16,
    "start_time": "2021-08-11T12:38:27.296Z"
   },
   {
    "duration": 48,
    "start_time": "2021-08-11T12:38:28.391Z"
   },
   {
    "duration": 6,
    "start_time": "2021-08-11T12:38:29.707Z"
   },
   {
    "duration": 46,
    "start_time": "2021-08-11T12:38:30.321Z"
   },
   {
    "duration": 21,
    "start_time": "2021-08-11T12:38:31.456Z"
   },
   {
    "duration": 52,
    "start_time": "2021-08-11T12:38:31.776Z"
   },
   {
    "duration": 20,
    "start_time": "2021-08-11T12:38:33.861Z"
   },
   {
    "duration": 11,
    "start_time": "2021-08-11T12:38:34.373Z"
   },
   {
    "duration": 15,
    "start_time": "2021-08-11T12:38:34.820Z"
   },
   {
    "duration": 30,
    "start_time": "2021-08-11T12:38:36.269Z"
   },
   {
    "duration": 26,
    "start_time": "2021-08-11T12:38:37.230Z"
   },
   {
    "duration": 24,
    "start_time": "2021-08-11T12:38:37.645Z"
   },
   {
    "duration": 21,
    "start_time": "2021-08-11T12:38:38.299Z"
   },
   {
    "duration": 11,
    "start_time": "2021-08-11T12:39:59.780Z"
   },
   {
    "duration": 19,
    "start_time": "2021-08-11T12:40:29.255Z"
   },
   {
    "duration": 10,
    "start_time": "2021-08-11T12:43:50.779Z"
   },
   {
    "duration": 11,
    "start_time": "2021-08-11T12:44:02.432Z"
   },
   {
    "duration": 378,
    "start_time": "2021-08-11T12:44:14.306Z"
   },
   {
    "duration": 353,
    "start_time": "2021-08-11T12:44:46.378Z"
   },
   {
    "duration": 409,
    "start_time": "2021-08-11T12:44:51.349Z"
   },
   {
    "duration": 10,
    "start_time": "2021-08-11T12:45:19.982Z"
   },
   {
    "duration": 7,
    "start_time": "2021-08-11T12:45:30.038Z"
   },
   {
    "duration": 10,
    "start_time": "2021-08-11T12:45:34.207Z"
   },
   {
    "duration": 16,
    "start_time": "2021-08-11T12:47:34.917Z"
   },
   {
    "duration": 11,
    "start_time": "2021-08-11T12:47:44.026Z"
   },
   {
    "duration": 8,
    "start_time": "2021-08-11T12:47:53.905Z"
   },
   {
    "duration": 10,
    "start_time": "2021-08-11T12:47:59.543Z"
   },
   {
    "duration": 25,
    "start_time": "2021-08-11T12:48:10.502Z"
   },
   {
    "duration": 30,
    "start_time": "2021-08-11T12:48:32.279Z"
   },
   {
    "duration": 24,
    "start_time": "2021-08-11T12:48:40.013Z"
   },
   {
    "duration": 22,
    "start_time": "2021-08-11T12:58:24.133Z"
   },
   {
    "duration": 11,
    "start_time": "2021-08-11T13:03:50.116Z"
   },
   {
    "duration": 8,
    "start_time": "2021-08-11T13:18:57.808Z"
   },
   {
    "duration": 11,
    "start_time": "2021-08-11T13:55:33.709Z"
   },
   {
    "duration": 3,
    "start_time": "2021-08-11T14:06:12.910Z"
   },
   {
    "duration": 319,
    "start_time": "2021-08-11T14:08:35.606Z"
   },
   {
    "duration": 345,
    "start_time": "2021-08-11T14:09:32.657Z"
   },
   {
    "duration": 318,
    "start_time": "2021-08-11T14:09:41.341Z"
   },
   {
    "duration": 341,
    "start_time": "2021-08-11T14:10:37.066Z"
   },
   {
    "duration": 382,
    "start_time": "2021-08-11T14:11:50.519Z"
   },
   {
    "duration": 5,
    "start_time": "2021-08-11T14:12:12.023Z"
   },
   {
    "duration": 311,
    "start_time": "2021-08-11T14:12:26.048Z"
   },
   {
    "duration": 16,
    "start_time": "2021-08-11T14:12:33.007Z"
   },
   {
    "duration": 5566,
    "start_time": "2021-08-11T14:14:05.285Z"
   },
   {
    "duration": 5358,
    "start_time": "2021-08-11T14:14:11.001Z"
   },
   {
    "duration": 5,
    "start_time": "2021-08-11T14:14:18.962Z"
   },
   {
    "duration": 1006,
    "start_time": "2021-08-11T14:16:31.600Z"
   },
   {
    "duration": 7,
    "start_time": "2021-08-11T14:17:19.780Z"
   },
   {
    "duration": 4,
    "start_time": "2021-08-11T14:19:24.461Z"
   },
   {
    "duration": 9,
    "start_time": "2021-08-11T14:19:30.827Z"
   },
   {
    "duration": 24,
    "start_time": "2021-08-11T14:19:58.401Z"
   },
   {
    "duration": 4,
    "start_time": "2021-08-11T14:20:01.294Z"
   },
   {
    "duration": 4704,
    "start_time": "2021-08-11T14:21:10.329Z"
   },
   {
    "duration": 376,
    "start_time": "2021-08-11T14:22:09.371Z"
   },
   {
    "duration": 1093,
    "start_time": "2021-08-11T14:22:35.638Z"
   },
   {
    "duration": 5,
    "start_time": "2021-08-11T14:28:57.498Z"
   },
   {
    "duration": 7,
    "start_time": "2021-08-11T14:29:10.278Z"
   },
   {
    "duration": 7,
    "start_time": "2021-08-11T14:29:13.570Z"
   },
   {
    "duration": 6,
    "start_time": "2021-08-11T14:29:19.297Z"
   },
   {
    "duration": 6,
    "start_time": "2021-08-11T14:29:23.325Z"
   },
   {
    "duration": 8,
    "start_time": "2021-08-11T14:29:45.736Z"
   },
   {
    "duration": 7,
    "start_time": "2021-08-11T14:30:27.686Z"
   },
   {
    "duration": 5195,
    "start_time": "2021-08-11T14:30:49.196Z"
   },
   {
    "duration": 6,
    "start_time": "2021-08-11T14:30:57.881Z"
   },
   {
    "duration": 6,
    "start_time": "2021-08-11T14:31:06.049Z"
   },
   {
    "duration": 5,
    "start_time": "2021-08-11T14:31:13.237Z"
   },
   {
    "duration": 5,
    "start_time": "2021-08-11T14:31:20.485Z"
   },
   {
    "duration": 6,
    "start_time": "2021-08-11T14:31:23.262Z"
   },
   {
    "duration": 7,
    "start_time": "2021-08-11T14:31:26.076Z"
   },
   {
    "duration": 5,
    "start_time": "2021-08-11T14:31:29.724Z"
   },
   {
    "duration": 5983,
    "start_time": "2021-08-11T14:32:26.620Z"
   },
   {
    "duration": 472,
    "start_time": "2021-08-11T14:32:43.437Z"
   },
   {
    "duration": 6,
    "start_time": "2021-08-11T14:32:57.017Z"
   },
   {
    "duration": 6,
    "start_time": "2021-08-11T14:33:01.755Z"
   },
   {
    "duration": 6,
    "start_time": "2021-08-11T14:33:12.516Z"
   },
   {
    "duration": 7,
    "start_time": "2021-08-11T14:33:15.189Z"
   },
   {
    "duration": 6,
    "start_time": "2021-08-11T14:33:18.845Z"
   },
   {
    "duration": 6,
    "start_time": "2021-08-11T14:33:22.650Z"
   },
   {
    "duration": 6,
    "start_time": "2021-08-11T14:33:31.252Z"
   },
   {
    "duration": 331,
    "start_time": "2021-08-11T14:33:49.691Z"
   },
   {
    "duration": 6,
    "start_time": "2021-08-11T14:35:10.809Z"
   },
   {
    "duration": 342,
    "start_time": "2021-08-11T14:38:50.585Z"
   },
   {
    "duration": 5,
    "start_time": "2021-08-11T14:38:58.571Z"
   },
   {
    "duration": 4,
    "start_time": "2021-08-11T14:39:11.863Z"
   },
   {
    "duration": 5,
    "start_time": "2021-08-11T14:39:18.288Z"
   },
   {
    "duration": 5,
    "start_time": "2021-08-11T14:39:21.245Z"
   },
   {
    "duration": 3,
    "start_time": "2021-08-11T14:57:29.033Z"
   },
   {
    "duration": 4,
    "start_time": "2021-08-11T14:57:40.565Z"
   },
   {
    "duration": 5,
    "start_time": "2021-08-11T14:57:48.831Z"
   },
   {
    "duration": 5,
    "start_time": "2021-08-11T14:58:00.141Z"
   },
   {
    "duration": 109,
    "start_time": "2021-08-11T14:58:43.102Z"
   },
   {
    "duration": 5,
    "start_time": "2021-08-11T14:58:49.346Z"
   },
   {
    "duration": 333,
    "start_time": "2021-08-11T14:58:52.804Z"
   },
   {
    "duration": 5,
    "start_time": "2021-08-11T14:58:56.791Z"
   },
   {
    "duration": 326,
    "start_time": "2021-08-11T14:59:13.626Z"
   },
   {
    "duration": 5,
    "start_time": "2021-08-11T14:59:16.628Z"
   },
   {
    "duration": 7,
    "start_time": "2021-08-11T15:00:06.039Z"
   },
   {
    "duration": 313,
    "start_time": "2021-08-11T15:00:09.078Z"
   },
   {
    "duration": 8,
    "start_time": "2021-08-11T15:07:07.760Z"
   },
   {
    "duration": 5,
    "start_time": "2021-08-11T15:07:25.673Z"
   },
   {
    "duration": 6,
    "start_time": "2021-08-11T15:07:31.585Z"
   },
   {
    "duration": 397,
    "start_time": "2021-08-11T15:07:37.737Z"
   },
   {
    "duration": 6,
    "start_time": "2021-08-11T15:12:07.756Z"
   },
   {
    "duration": 5,
    "start_time": "2021-08-11T15:12:30.068Z"
   },
   {
    "duration": 6,
    "start_time": "2021-08-11T15:12:45.140Z"
   },
   {
    "duration": 4,
    "start_time": "2021-08-11T16:04:42.254Z"
   },
   {
    "duration": 329,
    "start_time": "2021-08-11T16:05:03.933Z"
   },
   {
    "duration": 6,
    "start_time": "2021-08-11T16:05:09.521Z"
   },
   {
    "duration": 5,
    "start_time": "2021-08-11T16:05:15.101Z"
   },
   {
    "duration": 5,
    "start_time": "2021-08-11T16:06:56.136Z"
   },
   {
    "duration": 5,
    "start_time": "2021-08-11T16:07:02.628Z"
   },
   {
    "duration": 5,
    "start_time": "2021-08-11T16:07:48.571Z"
   },
   {
    "duration": 5,
    "start_time": "2021-08-11T16:07:50.637Z"
   },
   {
    "duration": 131,
    "start_time": "2021-08-11T16:09:46.426Z"
   },
   {
    "duration": 109,
    "start_time": "2021-08-11T16:09:55.459Z"
   },
   {
    "duration": 112,
    "start_time": "2021-08-11T16:11:04.715Z"
   },
   {
    "duration": 4,
    "start_time": "2021-08-11T16:11:45.897Z"
   },
   {
    "duration": 4,
    "start_time": "2021-08-11T16:11:48.108Z"
   },
   {
    "duration": 453,
    "start_time": "2021-08-11T16:15:35.159Z"
   },
   {
    "duration": 324,
    "start_time": "2021-08-11T16:15:51.648Z"
   },
   {
    "duration": 4,
    "start_time": "2021-08-11T16:16:06.583Z"
   },
   {
    "duration": 5,
    "start_time": "2021-08-11T16:16:13.028Z"
   },
   {
    "duration": 292,
    "start_time": "2021-08-11T16:17:03.696Z"
   },
   {
    "duration": 5,
    "start_time": "2021-08-11T16:17:33.623Z"
   },
   {
    "duration": 7,
    "start_time": "2021-08-11T16:17:39.229Z"
   },
   {
    "duration": 6,
    "start_time": "2021-08-11T16:17:47.369Z"
   },
   {
    "duration": 336,
    "start_time": "2021-08-11T16:17:49.862Z"
   },
   {
    "duration": 6,
    "start_time": "2021-08-11T16:17:52.146Z"
   },
   {
    "duration": 350,
    "start_time": "2021-08-11T16:18:05.096Z"
   },
   {
    "duration": 6,
    "start_time": "2021-08-11T16:18:36.167Z"
   },
   {
    "duration": 6,
    "start_time": "2021-08-11T16:18:51.228Z"
   },
   {
    "duration": 8,
    "start_time": "2021-08-11T16:18:55.200Z"
   },
   {
    "duration": 102,
    "start_time": "2021-08-11T16:22:35.208Z"
   },
   {
    "duration": 92,
    "start_time": "2021-08-11T16:22:39.426Z"
   },
   {
    "duration": 113,
    "start_time": "2021-08-11T16:22:48.756Z"
   },
   {
    "duration": 1160,
    "start_time": "2021-08-11T16:22:53.179Z"
   },
   {
    "duration": 7,
    "start_time": "2021-08-11T16:22:55.747Z"
   },
   {
    "duration": 405,
    "start_time": "2021-08-11T16:23:16.021Z"
   },
   {
    "duration": 6,
    "start_time": "2021-08-11T16:23:29.330Z"
   },
   {
    "duration": 5,
    "start_time": "2021-08-11T16:23:48.231Z"
   },
   {
    "duration": 313,
    "start_time": "2021-08-11T16:24:12.490Z"
   },
   {
    "duration": 6,
    "start_time": "2021-08-11T16:24:16.048Z"
   },
   {
    "duration": 5,
    "start_time": "2021-08-11T16:24:19.559Z"
   },
   {
    "duration": 5,
    "start_time": "2021-08-11T16:24:36.315Z"
   },
   {
    "duration": 5,
    "start_time": "2021-08-11T16:24:41.463Z"
   },
   {
    "duration": 6,
    "start_time": "2021-08-11T16:24:51.697Z"
   },
   {
    "duration": 31,
    "start_time": "2021-08-11T16:26:31.140Z"
   },
   {
    "duration": 7,
    "start_time": "2021-08-11T16:26:36.695Z"
   },
   {
    "duration": 6,
    "start_time": "2021-08-11T16:26:38.508Z"
   },
   {
    "duration": 274,
    "start_time": "2021-08-11T16:27:01.352Z"
   },
   {
    "duration": 302,
    "start_time": "2021-08-11T16:27:27.122Z"
   },
   {
    "duration": 5,
    "start_time": "2021-08-11T16:27:37.284Z"
   },
   {
    "duration": 542,
    "start_time": "2021-08-11T16:27:39.258Z"
   },
   {
    "duration": 4,
    "start_time": "2021-08-11T16:31:33.540Z"
   },
   {
    "duration": 5,
    "start_time": "2021-08-11T16:37:58.815Z"
   },
   {
    "duration": 7,
    "start_time": "2021-08-11T16:38:37.967Z"
   },
   {
    "duration": 6,
    "start_time": "2021-08-11T16:38:40.117Z"
   },
   {
    "duration": 5,
    "start_time": "2021-08-11T16:38:42.133Z"
   },
   {
    "duration": 6,
    "start_time": "2021-08-11T16:39:08.008Z"
   },
   {
    "duration": 7,
    "start_time": "2021-08-11T16:39:10.119Z"
   },
   {
    "duration": 325,
    "start_time": "2021-08-11T16:39:24.546Z"
   },
   {
    "duration": 7,
    "start_time": "2021-08-11T16:39:29.797Z"
   },
   {
    "duration": 5,
    "start_time": "2021-08-11T16:39:31.984Z"
   },
   {
    "duration": 5,
    "start_time": "2021-08-11T16:39:44.410Z"
   },
   {
    "duration": 6,
    "start_time": "2021-08-11T16:39:45.904Z"
   },
   {
    "duration": 302,
    "start_time": "2021-08-11T16:40:11.226Z"
   },
   {
    "duration": 5,
    "start_time": "2021-08-11T16:40:20.220Z"
   },
   {
    "duration": 5,
    "start_time": "2021-08-11T16:40:22.428Z"
   },
   {
    "duration": 5,
    "start_time": "2021-08-11T16:40:38.249Z"
   },
   {
    "duration": 5,
    "start_time": "2021-08-11T16:40:40.991Z"
   },
   {
    "duration": 5,
    "start_time": "2021-08-11T16:41:07.186Z"
   },
   {
    "duration": 110,
    "start_time": "2021-08-11T16:41:21.237Z"
   },
   {
    "duration": 5,
    "start_time": "2021-08-11T16:41:32.187Z"
   },
   {
    "duration": 113,
    "start_time": "2021-08-11T16:41:43.369Z"
   },
   {
    "duration": 6,
    "start_time": "2021-08-11T16:41:47.367Z"
   },
   {
    "duration": 5,
    "start_time": "2021-08-11T16:42:46.829Z"
   },
   {
    "duration": 5,
    "start_time": "2021-08-11T16:43:02.849Z"
   },
   {
    "duration": 120,
    "start_time": "2021-08-11T16:43:05.710Z"
   },
   {
    "duration": 6,
    "start_time": "2021-08-11T16:43:11.022Z"
   },
   {
    "duration": 132,
    "start_time": "2021-08-11T16:45:37.365Z"
   },
   {
    "duration": 173,
    "start_time": "2021-08-11T16:45:48.837Z"
   },
   {
    "duration": 5,
    "start_time": "2021-08-11T16:48:25.850Z"
   },
   {
    "duration": 5,
    "start_time": "2021-08-11T16:48:30.148Z"
   },
   {
    "duration": 5,
    "start_time": "2021-08-11T16:48:41.503Z"
   },
   {
    "duration": 6,
    "start_time": "2021-08-11T16:48:52.007Z"
   },
   {
    "duration": 5,
    "start_time": "2021-08-11T16:49:33.880Z"
   },
   {
    "duration": 7,
    "start_time": "2021-08-11T17:01:06.095Z"
   },
   {
    "duration": 5682,
    "start_time": "2021-08-11T17:01:18.962Z"
   },
   {
    "duration": 8,
    "start_time": "2021-08-11T17:01:40.428Z"
   },
   {
    "duration": 21,
    "start_time": "2021-08-11T17:02:53.218Z"
   },
   {
    "duration": 11,
    "start_time": "2021-08-11T17:03:21.158Z"
   },
   {
    "duration": 6001,
    "start_time": "2021-08-11T17:27:44.313Z"
   },
   {
    "duration": 9,
    "start_time": "2021-08-11T17:27:50.317Z"
   },
   {
    "duration": 7,
    "start_time": "2021-08-11T17:27:56.100Z"
   },
   {
    "duration": 5868,
    "start_time": "2021-08-11T17:27:57.778Z"
   },
   {
    "duration": 12,
    "start_time": "2021-08-11T17:28:04.966Z"
   },
   {
    "duration": 23,
    "start_time": "2021-08-11T17:28:09.072Z"
   },
   {
    "duration": 2407,
    "start_time": "2021-08-11T17:32:51.956Z"
   },
   {
    "duration": 18,
    "start_time": "2021-08-11T17:35:13.323Z"
   },
   {
    "duration": 10,
    "start_time": "2021-08-11T17:36:07.413Z"
   },
   {
    "duration": 11,
    "start_time": "2021-08-11T17:54:10.209Z"
   },
   {
    "duration": 9,
    "start_time": "2021-08-11T17:58:54.284Z"
   },
   {
    "duration": 11,
    "start_time": "2021-08-11T17:59:50.692Z"
   },
   {
    "duration": 13,
    "start_time": "2021-08-11T18:00:00.272Z"
   },
   {
    "duration": 9,
    "start_time": "2021-08-11T18:00:05.689Z"
   },
   {
    "duration": 13,
    "start_time": "2021-08-11T18:00:25.877Z"
   },
   {
    "duration": 10,
    "start_time": "2021-08-11T18:00:42.733Z"
   },
   {
    "duration": 13,
    "start_time": "2021-08-11T18:00:50.145Z"
   },
   {
    "duration": 12,
    "start_time": "2021-08-11T18:00:53.323Z"
   },
   {
    "duration": 12,
    "start_time": "2021-08-11T18:00:55.618Z"
   },
   {
    "duration": 13,
    "start_time": "2021-08-11T18:00:58.820Z"
   },
   {
    "duration": 344,
    "start_time": "2021-08-11T18:01:41.960Z"
   },
   {
    "duration": 11,
    "start_time": "2021-08-11T18:01:45.353Z"
   },
   {
    "duration": 327,
    "start_time": "2021-08-11T18:03:09.219Z"
   },
   {
    "duration": 10,
    "start_time": "2021-08-11T18:15:03.239Z"
   },
   {
    "duration": 13,
    "start_time": "2021-08-11T18:52:15.307Z"
   },
   {
    "duration": 11,
    "start_time": "2021-08-11T18:52:42.437Z"
   },
   {
    "duration": 11,
    "start_time": "2021-08-11T18:52:52.811Z"
   },
   {
    "duration": 9,
    "start_time": "2021-08-11T18:55:57.820Z"
   },
   {
    "duration": 5,
    "start_time": "2021-08-11T19:00:33.714Z"
   },
   {
    "duration": 8,
    "start_time": "2021-08-11T19:03:46.781Z"
   },
   {
    "duration": 395,
    "start_time": "2021-08-11T19:41:56.857Z"
   },
   {
    "duration": 10,
    "start_time": "2021-08-11T19:42:00.872Z"
   },
   {
    "duration": 11,
    "start_time": "2021-08-11T19:43:00.024Z"
   },
   {
    "duration": 345,
    "start_time": "2021-08-11T19:43:58.583Z"
   },
   {
    "duration": 14,
    "start_time": "2021-08-11T19:46:25.091Z"
   },
   {
    "duration": 348,
    "start_time": "2021-08-11T20:44:38.453Z"
   },
   {
    "duration": 13,
    "start_time": "2021-08-11T20:46:43.965Z"
   },
   {
    "duration": 18,
    "start_time": "2021-08-11T20:55:18.861Z"
   },
   {
    "duration": 11,
    "start_time": "2021-08-11T20:55:38.332Z"
   },
   {
    "duration": 11,
    "start_time": "2021-08-11T20:55:44.132Z"
   },
   {
    "duration": 12,
    "start_time": "2021-08-11T20:56:35.292Z"
   },
   {
    "duration": 27,
    "start_time": "2021-08-11T20:57:10.089Z"
   },
   {
    "duration": 6,
    "start_time": "2021-08-11T20:57:33.878Z"
   },
   {
    "duration": 13,
    "start_time": "2021-08-11T20:57:54.222Z"
   },
   {
    "duration": 7,
    "start_time": "2021-08-11T20:58:03.909Z"
   },
   {
    "duration": 348,
    "start_time": "2021-08-11T20:58:23.404Z"
   },
   {
    "duration": 10,
    "start_time": "2021-08-11T20:58:36.536Z"
   },
   {
    "duration": 92,
    "start_time": "2021-08-11T20:59:26.645Z"
   },
   {
    "duration": 92,
    "start_time": "2021-08-11T20:59:40.172Z"
   },
   {
    "duration": 12,
    "start_time": "2021-08-11T21:02:31.440Z"
   },
   {
    "duration": 11,
    "start_time": "2021-08-11T21:06:15.904Z"
   },
   {
    "duration": 6,
    "start_time": "2021-08-11T21:08:01.632Z"
   },
   {
    "duration": 21,
    "start_time": "2021-08-11T21:16:46.920Z"
   },
   {
    "duration": 66,
    "start_time": "2021-08-11T21:17:44.898Z"
   },
   {
    "duration": 8,
    "start_time": "2021-08-11T21:19:08.669Z"
   },
   {
    "duration": 8,
    "start_time": "2021-08-11T21:19:15.316Z"
   },
   {
    "duration": 9,
    "start_time": "2021-08-11T21:19:28.287Z"
   },
   {
    "duration": 13,
    "start_time": "2021-08-11T21:20:09.965Z"
   },
   {
    "duration": 8,
    "start_time": "2021-08-11T21:20:24.574Z"
   },
   {
    "duration": 9,
    "start_time": "2021-08-11T21:20:51.469Z"
   },
   {
    "duration": 9,
    "start_time": "2021-08-11T21:21:08.307Z"
   },
   {
    "duration": 9,
    "start_time": "2021-08-11T21:21:59.268Z"
   },
   {
    "duration": 787,
    "start_time": "2021-08-11T22:02:05.554Z"
   },
   {
    "duration": 64,
    "start_time": "2021-08-11T22:02:08.289Z"
   },
   {
    "duration": 30,
    "start_time": "2021-08-11T22:02:09.441Z"
   },
   {
    "duration": 16,
    "start_time": "2021-08-11T22:02:10.555Z"
   },
   {
    "duration": 13,
    "start_time": "2021-08-11T22:02:17.626Z"
   },
   {
    "duration": 11,
    "start_time": "2021-08-11T22:02:19.479Z"
   },
   {
    "duration": 16,
    "start_time": "2021-08-11T22:02:25.025Z"
   },
   {
    "duration": 48,
    "start_time": "2021-08-11T22:02:29.399Z"
   },
   {
    "duration": 6,
    "start_time": "2021-08-11T22:02:30.952Z"
   },
   {
    "duration": 47,
    "start_time": "2021-08-11T22:02:32.396Z"
   },
   {
    "duration": 18,
    "start_time": "2021-08-11T22:02:36.446Z"
   },
   {
    "duration": 47,
    "start_time": "2021-08-11T22:02:38.402Z"
   },
   {
    "duration": 14,
    "start_time": "2021-08-11T22:02:40.932Z"
   },
   {
    "duration": 6,
    "start_time": "2021-08-11T22:02:43.013Z"
   },
   {
    "duration": 15,
    "start_time": "2021-08-11T22:02:43.540Z"
   },
   {
    "duration": 21,
    "start_time": "2021-08-11T22:02:45.967Z"
   },
   {
    "duration": 26,
    "start_time": "2021-08-11T22:02:47.770Z"
   },
   {
    "duration": 22,
    "start_time": "2021-08-11T22:02:48.092Z"
   },
   {
    "duration": 18,
    "start_time": "2021-08-11T22:02:48.886Z"
   },
   {
    "duration": 10,
    "start_time": "2021-08-11T22:02:50.887Z"
   },
   {
    "duration": 18,
    "start_time": "2021-08-11T22:02:53.557Z"
   },
   {
    "duration": 12,
    "start_time": "2021-08-11T22:02:54.064Z"
   },
   {
    "duration": 26,
    "start_time": "2021-08-11T22:02:55.760Z"
   },
   {
    "duration": 27,
    "start_time": "2021-08-11T22:02:56.198Z"
   },
   {
    "duration": 25,
    "start_time": "2021-08-11T22:02:56.541Z"
   },
   {
    "duration": 15,
    "start_time": "2021-08-11T22:03:05.590Z"
   },
   {
    "duration": 8,
    "start_time": "2021-08-11T22:03:08.584Z"
   },
   {
    "duration": 9,
    "start_time": "2021-08-11T22:03:10.435Z"
   },
   {
    "duration": 6621,
    "start_time": "2021-08-11T22:03:12.097Z"
   },
   {
    "duration": 13,
    "start_time": "2021-08-11T22:03:18.721Z"
   },
   {
    "duration": 44,
    "start_time": "2021-08-11T22:03:18.737Z"
   },
   {
    "duration": 15,
    "start_time": "2021-08-11T22:03:31.450Z"
   },
   {
    "duration": 7,
    "start_time": "2021-08-11T22:03:38.543Z"
   },
   {
    "duration": 11,
    "start_time": "2021-08-11T22:03:41.284Z"
   },
   {
    "duration": 12,
    "start_time": "2021-08-11T22:03:43.942Z"
   },
   {
    "duration": 18,
    "start_time": "2021-08-11T22:03:44.906Z"
   },
   {
    "duration": 10,
    "start_time": "2021-08-11T22:03:45.480Z"
   },
   {
    "duration": 16,
    "start_time": "2021-08-11T22:03:48.290Z"
   },
   {
    "duration": 808,
    "start_time": "2021-08-12T06:43:47.022Z"
   },
   {
    "duration": 67,
    "start_time": "2021-08-12T06:43:47.833Z"
   },
   {
    "duration": 29,
    "start_time": "2021-08-12T06:43:47.904Z"
   },
   {
    "duration": 32,
    "start_time": "2021-08-12T06:43:47.936Z"
   },
   {
    "duration": 13,
    "start_time": "2021-08-12T06:43:47.970Z"
   },
   {
    "duration": 14,
    "start_time": "2021-08-12T06:43:47.985Z"
   },
   {
    "duration": 14,
    "start_time": "2021-08-12T06:43:48.001Z"
   },
   {
    "duration": 90,
    "start_time": "2021-08-12T06:43:48.017Z"
   },
   {
    "duration": 5,
    "start_time": "2021-08-12T06:43:48.110Z"
   },
   {
    "duration": 65,
    "start_time": "2021-08-12T06:43:48.119Z"
   },
   {
    "duration": 19,
    "start_time": "2021-08-12T06:43:48.186Z"
   },
   {
    "duration": 71,
    "start_time": "2021-08-12T06:43:48.207Z"
   },
   {
    "duration": 15,
    "start_time": "2021-08-12T06:43:48.280Z"
   },
   {
    "duration": 6,
    "start_time": "2021-08-12T06:43:48.297Z"
   },
   {
    "duration": 22,
    "start_time": "2021-08-12T06:43:48.306Z"
   },
   {
    "duration": 50,
    "start_time": "2021-08-12T06:43:48.331Z"
   },
   {
    "duration": 27,
    "start_time": "2021-08-12T06:43:48.384Z"
   },
   {
    "duration": 57,
    "start_time": "2021-08-12T06:43:48.413Z"
   },
   {
    "duration": 16,
    "start_time": "2021-08-12T06:43:48.473Z"
   },
   {
    "duration": 12,
    "start_time": "2021-08-12T06:43:48.492Z"
   },
   {
    "duration": 16,
    "start_time": "2021-08-12T06:43:48.506Z"
   },
   {
    "duration": 45,
    "start_time": "2021-08-12T06:43:48.525Z"
   },
   {
    "duration": 27,
    "start_time": "2021-08-12T06:43:48.572Z"
   },
   {
    "duration": 24,
    "start_time": "2021-08-12T06:43:48.601Z"
   },
   {
    "duration": 55,
    "start_time": "2021-08-12T06:43:48.627Z"
   },
   {
    "duration": 10,
    "start_time": "2021-08-12T06:43:48.684Z"
   },
   {
    "duration": 8,
    "start_time": "2021-08-12T06:43:48.700Z"
   },
   {
    "duration": 5,
    "start_time": "2021-08-12T06:43:48.711Z"
   },
   {
    "duration": 6816,
    "start_time": "2021-08-12T06:43:48.719Z"
   },
   {
    "duration": 26,
    "start_time": "2021-08-12T06:43:55.538Z"
   },
   {
    "duration": 23,
    "start_time": "2021-08-12T06:43:55.566Z"
   },
   {
    "duration": 20,
    "start_time": "2021-08-12T06:43:55.591Z"
   },
   {
    "duration": 6,
    "start_time": "2021-08-12T06:43:55.614Z"
   },
   {
    "duration": 11,
    "start_time": "2021-08-12T06:43:55.663Z"
   },
   {
    "duration": 12,
    "start_time": "2021-08-12T06:43:55.677Z"
   },
   {
    "duration": 18,
    "start_time": "2021-08-12T06:43:55.692Z"
   },
   {
    "duration": 52,
    "start_time": "2021-08-12T06:43:55.713Z"
   },
   {
    "duration": 12,
    "start_time": "2021-08-12T06:43:55.768Z"
   },
   {
    "duration": 7,
    "start_time": "2021-08-12T06:57:24.459Z"
   }
  ],
  "kernelspec": {
   "display_name": "Python 3 (ipykernel)",
   "language": "python",
   "name": "python3"
  },
  "language_info": {
   "codemirror_mode": {
    "name": "ipython",
    "version": 3
   },
   "file_extension": ".py",
   "mimetype": "text/x-python",
   "name": "python",
   "nbconvert_exporter": "python",
   "pygments_lexer": "ipython3",
   "version": "3.8.8"
  },
  "toc": {
   "base_numbering": 1,
   "nav_menu": {},
   "number_sections": true,
   "sideBar": true,
   "skip_h1_title": true,
   "title_cell": "Table of Contents",
   "title_sidebar": "Contents",
   "toc_cell": false,
   "toc_position": {},
   "toc_section_display": true,
   "toc_window_display": false
  }
 },
 "nbformat": 4,
 "nbformat_minor": 1
}
